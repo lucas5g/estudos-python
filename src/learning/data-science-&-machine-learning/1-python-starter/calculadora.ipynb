{
 "cells": [
  {
   "cell_type": "code",
   "execution_count": 2,
   "metadata": {},
   "outputs": [
    {
     "name": "stdout",
     "output_type": "stream",
     "text": [
      "\n",
      "0: Soma \n",
      "1: Subtração \n",
      "2: Multiplicação \n",
      "3: Divisão \n",
      "4: Exponenciação \n",
      "5: Sair\n",
      "\n",
      "Escolha a operação que deseja realizar:\n",
      "\n"
     ]
    }
   ],
   "source": [
    "text_start = \"\"\"\n",
    "0: Soma \n",
    "1: Subtração \n",
    "2: Multiplicação \n",
    "3: Divisão \n",
    "4: Exponenciação \n",
    "5: Sair\n",
    "\n",
    "Escolha a operação que deseja realizar:\n",
    "\"\"\"\n",
    "print(text_start)\n",
    "      "
   ]
  },
  {
   "cell_type": "code",
   "execution_count": 7,
   "metadata": {},
   "outputs": [
    {
     "data": {
      "text/plain": [
       "{'0': {'text': '>>> + escolhido', 'operacao': '+'},\n",
       " '1': {'text': '>>> - escolhido', 'operacao': '-'}}"
      ]
     },
     "execution_count": 7,
     "metadata": {},
     "output_type": "execute_result"
    }
   ],
   "source": [
    "operacacoes = {\n",
    "\t\"0\":{\n",
    "\t\t\"text\":\">>> + escolhido\",\n",
    "\t\t\"operacao\": \"+\"\n",
    "\t},\n",
    "\t\"1\":{\n",
    "\t\t\"text\":\">>> - escolhido\",\n",
    "\t\t\"operacao\": \"-\"\n",
    "\t}\n",
    "}\n",
    "operacacoes"
   ]
  },
  {
   "cell_type": "code",
   "execution_count": 9,
   "metadata": {},
   "outputs": [
    {
     "name": "stdout",
     "output_type": "stream",
     "text": [
      "\n",
      "0: Soma \n",
      "1: Subtração \n",
      "2: Multiplicação \n",
      "3: Divisão \n",
      "4: Exponenciação \n",
      "5: Sair\n",
      "\n",
      "Escolha a operação que deseja realizar:\n",
      "\n",
      "{'text': '>>> - escolhido', 'operacao': '-'}\n",
      "\u001b[H\u001b[2J\n",
      "0: Soma \n",
      "1: Subtração \n",
      "2: Multiplicação \n",
      "3: Divisão \n",
      "4: Exponenciação \n",
      "5: Sair\n",
      "\n",
      "Escolha a operação que deseja realizar:\n",
      "\n",
      "{'text': '>>> - escolhido', 'operacao': '-'}\n",
      "\u001b[H\u001b[2J\n",
      "0: Soma \n",
      "1: Subtração \n",
      "2: Multiplicação \n",
      "3: Divisão \n",
      "4: Exponenciação \n",
      "5: Sair\n",
      "\n",
      "Escolha a operação que deseja realizar:\n",
      "\n"
     ]
    }
   ],
   "source": [
    "import os \n",
    "while True:\n",
    "    print(text_start)\n",
    "    opcao_operacao = input()\n",
    "    \n",
    "    if opcao_operacao == \"5\":\n",
    "        break\n",
    "    \n",
    "    operacao = operacacoes.get(opcao_operacao)\n",
    "    print(operacao)\n",
    "    \n",
    "    os.system('clear')\n",
    "    "
   ]
  }
 ],
 "metadata": {
  "kernelspec": {
   "display_name": ".venv",
   "language": "python",
   "name": "python3"
  },
  "language_info": {
   "codemirror_mode": {
    "name": "ipython",
    "version": 3
   },
   "file_extension": ".py",
   "mimetype": "text/x-python",
   "name": "python",
   "nbconvert_exporter": "python",
   "pygments_lexer": "ipython3",
   "version": "3.10.12"
  }
 },
 "nbformat": 4,
 "nbformat_minor": 2
}
