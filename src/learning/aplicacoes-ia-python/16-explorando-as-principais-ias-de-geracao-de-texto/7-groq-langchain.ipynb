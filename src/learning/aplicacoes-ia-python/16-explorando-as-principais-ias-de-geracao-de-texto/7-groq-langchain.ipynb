{
 "cells": [
  {
   "cell_type": "code",
   "execution_count": 2,
   "metadata": {},
   "outputs": [],
   "source": [
    "from langchain_groq import ChatGroq\n",
    "\n",
    "chat = ChatGroq(\n",
    "\ttemperature=0,\n",
    "\tmodel='llama-3.1-8b-Instant',\n",
    ")\n",
    "\n",
    "res = chat.invoke(\"Ola, como vai?\")"
   ]
  },
  {
   "cell_type": "code",
   "execution_count": 3,
   "metadata": {},
   "outputs": [
    {
     "name": "stdout",
     "output_type": "stream",
     "text": [
      "Estou bem, obrigado! Como posso ajudar você hoje?\n"
     ]
    }
   ],
   "source": [
    "print(res.content)"
   ]
  },
  {
   "cell_type": "code",
   "execution_count": 4,
   "metadata": {},
   "outputs": [
    {
     "name": "stdout",
     "output_type": "stream",
     "text": [
      "Uma árvore é como um amigo fiel, que cresce e se fortalece com o tempo, oferecendo sombra e abrigo para aqueles que precisam de refúgio. É como um símbolo de estabilidade e perseverança, que não se deixa abater pelas tempestades da vida. E, ao mesmo tempo, é uma fonte de vida, que produz frutos e flores que trazem alegria e beleza ao mundo ao seu redor.\n"
     ]
    }
   ],
   "source": [
    "from langchain_core.prompts import ChatPromptTemplate \n",
    "\n",
    "template = ChatPromptTemplate.from_messages([\n",
    "\t(\"system\", \"Você é uma assistente que sempre fala no sentido figurado.\"),\n",
    "\t(\"human\", \"{input}\")\n",
    "])\n",
    "\n",
    "chain = template | chat \n",
    "\n",
    "res = chain.invoke({\"input\": \"O que é uma árvore?\"})\n",
    "print(res.content)"
   ]
  },
  {
   "cell_type": "code",
   "execution_count": 5,
   "metadata": {},
   "outputs": [
    {
     "name": "stdout",
     "output_type": "stream",
     "text": [
      "A vida! É como um grande livro que está sendo escrito ao vivo, com capítulos que se revezam entre alegria e tristeza, luz e sombra. É um mistério que cada um de nós está tentando desvendar, página por página, palavra por palavra.\n",
      "\n",
      "A vida é um rio que flui sem parar, carregando consigo momentos de paz e momentos de turbulência. É um jardim que precisa ser cultivado, com flores que precisam ser regadas e podadas para que possam crescer e se desenvolver.\n",
      "\n",
      "E você, meu amigo? Qual é o seu capítulo atual? Está escrevendo uma história de amor, aventura ou superação? Lembre-se de que a vida é um presente precioso, e cada momento é uma oportunidade para criar algo novo e incrível."
     ]
    }
   ],
   "source": [
    "stream = chain.stream({\"input\": \"O que é a vida?\"})\n",
    "\n",
    "for chunk in stream:\n",
    "    print(chunk.content, end='')"
   ]
  },
  {
   "cell_type": "code",
   "execution_count": 14,
   "metadata": {},
   "outputs": [],
   "source": [
    "from typing import Optional \n",
    "\n",
    "from langchain_core.tools import tool \n",
    "\n",
    "@tool\n",
    "def buscar_produtividade(user):\n",
    "    \"\"\"Retarna produtividade dos usuários\"\"\"\n",
    "    if user == 'Lucas':\n",
    "        return 'Desenvolvimento backend'\n",
    "    \n",
    "    if user == 'Denis':\n",
    "        return 'Gestao de tarefas'\n",
    "    \n",
    "@tool\n",
    "def buscar_usuarios():\n",
    "    \"\"\"Retarna a lista dos usuários\"\"\"\n",
    "    return ['Lucas', 'john', 'fulano']\n",
    "    \n",
    "chat_tool = chat.bind_tools([\n",
    "    buscar_produtividade,\n",
    "    buscar_usuarios\n",
    "], tool_choice='auto')\n",
    "\n",
    "res = chat_tool.invoke(\"Retorne todos os usuários e busque a produtividade Lucas\")\n",
    "\n",
    "\n",
    "\n"
   ]
  },
  {
   "cell_type": "code",
   "execution_count": 15,
   "metadata": {},
   "outputs": [
    {
     "data": {
      "text/plain": [
       "[{'name': 'buscar_usuarios',\n",
       "  'args': {},\n",
       "  'id': 'call_y6q2',\n",
       "  'type': 'tool_call'},\n",
       " {'name': 'buscar_produtividade',\n",
       "  'args': {'user': 'Lucas'},\n",
       "  'id': 'call_4ykn',\n",
       "  'type': 'tool_call'}]"
      ]
     },
     "execution_count": 15,
     "metadata": {},
     "output_type": "execute_result"
    }
   ],
   "source": [
    "res.tool_calls"
   ]
  },
  {
   "cell_type": "code",
   "execution_count": 2,
   "metadata": {},
   "outputs": [],
   "source": [
    "from langchain_groq import ChatGroq\n",
    "\n",
    "llm = ChatGroq(\n",
    "    model=\"whisper-large-v3\",\n",
    "   \n",
    "   \n",
    ")"
   ]
  },
  {
   "cell_type": "code",
   "execution_count": 3,
   "metadata": {},
   "outputs": [],
   "source": [
    "from groq import Groq \n",
    "\n",
    "client = Groq()\n",
    "\n",
    "video_paht_file"
   ]
  }
 ],
 "metadata": {
  "kernelspec": {
   "display_name": ".venv",
   "language": "python",
   "name": "python3"
  },
  "language_info": {
   "codemirror_mode": {
    "name": "ipython",
    "version": 3
   },
   "file_extension": ".py",
   "mimetype": "text/x-python",
   "name": "python",
   "nbconvert_exporter": "python",
   "pygments_lexer": "ipython3",
   "version": "3.10.12"
  }
 },
 "nbformat": 4,
 "nbformat_minor": 2
}
