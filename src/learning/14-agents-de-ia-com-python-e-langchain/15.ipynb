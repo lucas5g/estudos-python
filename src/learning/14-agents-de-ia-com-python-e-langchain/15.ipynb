{
 "cells": [
  {
   "cell_type": "code",
   "execution_count": 2,
   "metadata": {},
   "outputs": [],
   "source": [
    "from langchain_experimental.tools import PythonAstREPLTool \n",
    "\n",
    "tools = [PythonAstREPLTool()]"
   ]
  },
  {
   "cell_type": "code",
   "execution_count": 4,
   "metadata": {},
   "outputs": [],
   "source": [
    "from langchain.agents import create_tool_calling_agent, AgentExecutor \n",
    "from langchain.prompts import ChatPromptTemplate \n",
    "from langchain_openai import ChatOpenAI \n",
    "\n",
    "system_msg = \"\"\"Você é um assistente amigável.\n",
    "Certifique-se de usar a ferramentas PythonAstREPLTool para auxiliar a responder as perguntas\"\"\"\n",
    "\n",
    "prompt = ChatPromptTemplate.from_messages([\n",
    "\t(\"system\", system_msg),\n",
    "\t(\"placeholder\", \"{chat_history}\"),\n",
    "\t(\"human\", \"{input}\"),\n",
    "\t(\"placeholder\", \"{agent_scratchpad}\")\n",
    "])\n",
    "\n",
    "chat = ChatOpenAI() \n",
    "agent = create_tool_calling_agent(chat, tools, prompt) \n",
    "agent_executor = AgentExecutor(agent=agent, tools=tools, verbose=True)"
   ]
  },
  {
   "cell_type": "code",
   "execution_count": 5,
   "metadata": {},
   "outputs": [
    {
     "name": "stdout",
     "output_type": "stream",
     "text": [
      "\n",
      "\n",
      "\u001b[1m> Entering new AgentExecutor chain...\u001b[0m\n",
      "\u001b[32;1m\u001b[1;3m\n",
      "Invoking: `python_repl_ast` with `{'query': 'def fibonacci(n):\\n    if n <= 1:\\n        return n\\n    else:\\n        return fibonacci(n-1) + fibonacci(n-2)\\n\\nfibonacci(9)'}`\n",
      "\n",
      "\n",
      "\u001b[0m\u001b[36;1m\u001b[1;3mNameError: name 'fibonacci' is not defined\u001b[0m\u001b[32;1m\u001b[1;3m\n",
      "Invoking: `python_repl_ast` with `{'query': 'def fibonacci(n):\\n    if n <= 1:\\n        return n\\n    else:\\n        return fibonacci(n-1) + fibonacci(n-2)\\n\\nfibonacci(9)'}`\n",
      "responded: Parece que houve um erro na definição da função fibonacci. Vou corrigir isso e tentar novamente.\n",
      "\n",
      "\u001b[0m\u001b[36;1m\u001b[1;3mNameError: name 'fibonacci' is not defined\u001b[0m\u001b[32;1m\u001b[1;3m\n",
      "Invoking: `python_repl_ast` with `{'query': 'a, b = 0, 1\\nfor _ in range(9):\\n    a, b = b, a + b\\na'}`\n",
      "responded: Parece que o erro persiste. Vou tentar uma abordagem alternativa para calcular o décimo valor da sequência Fibonacci.\n",
      "\n",
      "\u001b[0m\u001b[36;1m\u001b[1;3m34\u001b[0m\u001b[32;1m\u001b[1;3mO décimo valor da sequência Fibonacci é 34.\u001b[0m\n",
      "\n",
      "\u001b[1m> Finished chain.\u001b[0m\n"
     ]
    },
    {
     "data": {
      "text/plain": [
       "{'input': 'Qual é o décimo valor da sequência fibonacci?',\n",
       " 'output': 'O décimo valor da sequência Fibonacci é 34.'}"
      ]
     },
     "execution_count": 5,
     "metadata": {},
     "output_type": "execute_result"
    }
   ],
   "source": [
    "agent_executor.invoke({\"input\": \"Qual é o décimo valor da sequência fibonacci?\"})"
   ]
  },
  {
   "cell_type": "code",
   "execution_count": 6,
   "metadata": {},
   "outputs": [
    {
     "name": "stdout",
     "output_type": "stream",
     "text": [
      "\n",
      "\n",
      "\u001b[1m> Entering new AgentExecutor chain...\u001b[0m\n",
      "\u001b[32;1m\u001b[1;3m\n",
      "Invoking: `python_repl_ast` with `{'query': \"len('escola')\"}`\n",
      "\n",
      "\n",
      "\u001b[0m\u001b[36;1m\u001b[1;3m6\u001b[0m\u001b[32;1m\u001b[1;3mA palavra \"escola\" tem 6 letras.\u001b[0m\n",
      "\n",
      "\u001b[1m> Finished chain.\u001b[0m\n"
     ]
    },
    {
     "data": {
      "text/plain": [
       "{'input': 'Quantas letras tem a palavra escola?',\n",
       " 'output': 'A palavra \"escola\" tem 6 letras.'}"
      ]
     },
     "execution_count": 6,
     "metadata": {},
     "output_type": "execute_result"
    }
   ],
   "source": [
    "agent_executor.invoke({\"input\": \"Quantas letras tem a palavra escola?\"})"
   ]
  }
 ],
 "metadata": {
  "kernelspec": {
   "display_name": ".venv",
   "language": "python",
   "name": "python3"
  },
  "language_info": {
   "codemirror_mode": {
    "name": "ipython",
    "version": 3
   },
   "file_extension": ".py",
   "mimetype": "text/x-python",
   "name": "python",
   "nbconvert_exporter": "python",
   "pygments_lexer": "ipython3",
   "version": "3.10.12"
  }
 },
 "nbformat": 4,
 "nbformat_minor": 2
}
