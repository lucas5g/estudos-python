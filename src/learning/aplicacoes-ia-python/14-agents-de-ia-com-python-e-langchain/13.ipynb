{
 "cells": [
  {
   "cell_type": "code",
   "execution_count": 59,
   "metadata": {},
   "outputs": [],
   "source": [
    "import requests\n",
    "import datetime\n",
    "import wikipedia\n",
    "\n",
    "from langchain.agents import tool\n",
    "from langchain.pydantic_v1 import BaseModel, Field\n",
    "from pytz import UTC\n",
    "\n",
    "wikipedia.set_lang('pt')\n",
    "\n",
    "class RetornTempArgs(BaseModel):\n",
    "    latitude: float = Field(description='Latitude da localidade que buscamos a temperatura')\n",
    "    longitude: float = Field(description='Longitude da localidade que buscamos a temperatura')\n",
    "\n",
    "\n",
    "@tool(args_schema=RetornTempArgs)\n",
    "def retorna_temperatura_atual(latitude: float, longitude: float):\n",
    "    '''Retorna a temperatura atual para uma dada coordenada'''\n",
    "\n",
    "    URL = 'https://api.open-meteo.com/v1/forecast'\n",
    "\n",
    "    params = {\n",
    "        'latitude': latitude,\n",
    "        'longitude': longitude,\n",
    "        'hourly': 'temperature_2m',\n",
    "        'forecast_days': 1,\n",
    "    }\n",
    "\n",
    "    resposta = requests.get(URL, params=params)\n",
    "    if resposta.status_code == 200:\n",
    "        resultado = resposta.json()\n",
    "        \n",
    "        hora_agora = datetime.datetime.now(UTC).replace(tzinfo=None)\n",
    "        lista_horas = [datetime.datetime.fromisoformat(temp_str) for temp_str in resultado['hourly']['time']]\n",
    "        index_mais_prox = min(range(len(lista_horas)), key=lambda x: abs(lista_horas[x] - hora_agora))\n",
    "\n",
    "        temp_atual = resultado['hourly']['temperature_2m'][index_mais_prox]\n",
    "        return f'{temp_atual}ºC'\n",
    "    else:\n",
    "        raise Exception(f'Request para API {URL} falhou: {resposta.status_code}')\n",
    "\n",
    "@tool\n",
    "def busca_wikipedia(query: str):\n",
    "    \"\"\"Faz busca no wikipedia e retorna resumos de páginas para a query\"\"\"\n",
    "    titulos_paginas = wikipedia.search(query)\n",
    "    resumos = []\n",
    "    for titulo in titulos_paginas[:3]:\n",
    "        try:\n",
    "            wiki_page = wikipedia.page(title=titulo, auto_suggest=True)\n",
    "            resumos.append(f'Título da página: {titulo}\\nResumo: {wiki_page.summary}')\n",
    "        except:\n",
    "            pass\n",
    "    if not resumos:\n",
    "        return 'Busca não teve retorno'\n",
    "    else:\n",
    "        return '\\n\\n'.join(resumos)"
   ]
  },
  {
   "cell_type": "code",
   "execution_count": 60,
   "metadata": {},
   "outputs": [],
   "source": [
    "from langchain.prompts import ChatPromptTemplate\n",
    "from langchain_openai import ChatOpenAI\n",
    "from langchain_core.utils.function_calling import convert_to_openai_function\n",
    "\n",
    "prompt = ChatPromptTemplate.from_messages([\n",
    "    ('system', 'Você é um assistente amigável chamado Isaac'),\n",
    "    ('user', '{input}')\n",
    "])\n",
    "chat = ChatOpenAI()\n",
    "\n",
    "tools = [busca_wikipedia, retorna_temperatura_atual]\n",
    "tools_json = [convert_to_openai_function(tool) for tool in tools]\n",
    "tool_run = {tool.name: tool for tool in tools}\n",
    "\n",
    "chain = prompt | chat.bind(functions=tools_json)"
   ]
  },
  {
   "cell_type": "code",
   "execution_count": 61,
   "metadata": {},
   "outputs": [],
   "source": [
    "from langchain.agents.output_parsers import OpenAIFunctionsAgentOutputParser\n",
    "chain = prompt | chat.bind(functions=tools_json) | OpenAIFunctionsAgentOutputParser()"
   ]
  },
  {
   "cell_type": "code",
   "execution_count": 62,
   "metadata": {},
   "outputs": [
    {
     "data": {
      "text/plain": [
       "AgentActionMessageLog(tool='retorna_temperatura_atual', tool_input={'latitude': -27.5954, 'longitude': -48.548}, log=\"\\nInvoking: `retorna_temperatura_atual` with `{'latitude': -27.5954, 'longitude': -48.548}`\\n\\n\\n\", message_log=[AIMessage(content='', additional_kwargs={'function_call': {'arguments': '{\"latitude\":-27.5954,\"longitude\":-48.548}', 'name': 'retorna_temperatura_atual'}}, response_metadata={'token_usage': {'completion_tokens': 27, 'prompt_tokens': 131, 'total_tokens': 158}, 'model_name': 'gpt-3.5-turbo-0125', 'system_fingerprint': None, 'finish_reason': 'function_call', 'logprobs': None}, id='run-5dfda41e-b897-4e87-a84d-becf44a6c38c-0', usage_metadata={'input_tokens': 131, 'output_tokens': 27, 'total_tokens': 158})])"
      ]
     },
     "execution_count": 62,
     "metadata": {},
     "output_type": "execute_result"
    }
   ],
   "source": [
    "resposta = chain.invoke({'input': 'Qual a temperatura em Floripa?'})\n",
    "resposta"
   ]
  },
  {
   "cell_type": "code",
   "execution_count": 63,
   "metadata": {},
   "outputs": [
    {
     "data": {
      "text/plain": [
       "('retorna_temperatura_atual',\n",
       " {'latitude': -27.5954, 'longitude': -48.548},\n",
       " [AIMessage(content='', additional_kwargs={'function_call': {'arguments': '{\"latitude\":-27.5954,\"longitude\":-48.548}', 'name': 'retorna_temperatura_atual'}}, response_metadata={'token_usage': {'completion_tokens': 27, 'prompt_tokens': 131, 'total_tokens': 158}, 'model_name': 'gpt-3.5-turbo-0125', 'system_fingerprint': None, 'finish_reason': 'function_call', 'logprobs': None}, id='run-5dfda41e-b897-4e87-a84d-becf44a6c38c-0', usage_metadata={'input_tokens': 131, 'output_tokens': 27, 'total_tokens': 158})])"
      ]
     },
     "execution_count": 63,
     "metadata": {},
     "output_type": "execute_result"
    }
   ],
   "source": [
    "resposta.tool, resposta.tool_input, resposta.message_log"
   ]
  },
  {
   "cell_type": "code",
   "execution_count": 64,
   "metadata": {},
   "outputs": [],
   "source": [
    "from langchain.prompts import MessagesPlaceholder\n",
    "\n",
    "prompt = ChatPromptTemplate.from_messages([\n",
    "    ('system', 'Você é um assistente amigável chamado Isaac'),\n",
    "    ('user', '{input}'),\n",
    "    MessagesPlaceholder(variable_name='agent_scratchpad')\n",
    "])\n",
    "\n",
    "chain = prompt | chat.bind(functions=tools_json) | OpenAIFunctionsAgentOutputParser()"
   ]
  },
  {
   "cell_type": "code",
   "execution_count": 65,
   "metadata": {},
   "outputs": [
    {
     "data": {
      "text/plain": [
       "AgentActionMessageLog(tool='retorna_temperatura_atual', tool_input={'latitude': -27.5954, 'longitude': -48.548}, log=\"\\nInvoking: `retorna_temperatura_atual` with `{'latitude': -27.5954, 'longitude': -48.548}`\\n\\n\\n\", message_log=[AIMessage(content='', additional_kwargs={'function_call': {'arguments': '{\"latitude\":-27.5954,\"longitude\":-48.548}', 'name': 'retorna_temperatura_atual'}}, response_metadata={'token_usage': {'completion_tokens': 27, 'prompt_tokens': 131, 'total_tokens': 158}, 'model_name': 'gpt-3.5-turbo-0125', 'system_fingerprint': None, 'finish_reason': 'function_call', 'logprobs': None}, id='run-d862fa70-b899-4537-9e41-9fdbb7077114-0', usage_metadata={'input_tokens': 131, 'output_tokens': 27, 'total_tokens': 158})])"
      ]
     },
     "execution_count": 65,
     "metadata": {},
     "output_type": "execute_result"
    }
   ],
   "source": [
    "resposta_inicial = chain.invoke({\n",
    "    'input': 'Qual a temperatura em Floripa?',\n",
    "    'agent_scratchpad': []})\n",
    "resposta_inicial"
   ]
  },
  {
   "cell_type": "code",
   "execution_count": 66,
   "metadata": {},
   "outputs": [
    {
     "data": {
      "text/plain": [
       "'15.0ºC'"
      ]
     },
     "execution_count": 66,
     "metadata": {},
     "output_type": "execute_result"
    }
   ],
   "source": [
    "observacao = tool_run[resposta_inicial.tool].run(resposta_inicial.tool_input)\n",
    "observacao"
   ]
  },
  {
   "cell_type": "code",
   "execution_count": 67,
   "metadata": {},
   "outputs": [
    {
     "data": {
      "text/plain": [
       "[AIMessage(content='', additional_kwargs={'function_call': {'arguments': '{\"latitude\":-27.5954,\"longitude\":-48.548}', 'name': 'retorna_temperatura_atual'}}, response_metadata={'token_usage': {'completion_tokens': 27, 'prompt_tokens': 131, 'total_tokens': 158}, 'model_name': 'gpt-3.5-turbo-0125', 'system_fingerprint': None, 'finish_reason': 'function_call', 'logprobs': None}, id='run-d862fa70-b899-4537-9e41-9fdbb7077114-0', usage_metadata={'input_tokens': 131, 'output_tokens': 27, 'total_tokens': 158}),\n",
       " FunctionMessage(content='15.0ºC', name='retorna_temperatura_atual')]"
      ]
     },
     "execution_count": 67,
     "metadata": {},
     "output_type": "execute_result"
    }
   ],
   "source": [
    "from langchain.agents.format_scratchpad import format_to_openai_function_messages\n",
    "format_to_openai_function_messages([(resposta_inicial, observacao)])"
   ]
  },
  {
   "cell_type": "code",
   "execution_count": 69,
   "metadata": {},
   "outputs": [
    {
     "data": {
      "text/plain": [
       "AgentActionMessageLog(tool='retorna_temperatura_atual', tool_input={'latitude': -27.5954, 'longitude': -48.548}, log=\"\\nInvoking: `retorna_temperatura_atual` with `{'latitude': -27.5954, 'longitude': -48.548}`\\n\\n\\n\", message_log=[AIMessage(content='', additional_kwargs={'function_call': {'arguments': '{\"latitude\":-27.5954,\"longitude\":-48.548}', 'name': 'retorna_temperatura_atual'}}, response_metadata={'token_usage': {'completion_tokens': 27, 'prompt_tokens': 153, 'total_tokens': 180}, 'model_name': 'gpt-3.5-turbo-0125', 'system_fingerprint': None, 'finish_reason': 'function_call', 'logprobs': None}, id='run-547e3e97-75ad-4575-90f6-b3409417f404-0', usage_metadata={'input_tokens': 153, 'output_tokens': 27, 'total_tokens': 180})])"
      ]
     },
     "execution_count": 69,
     "metadata": {},
     "output_type": "execute_result"
    }
   ],
   "source": [
    "resposta_final = chain.invoke({\n",
    "\t\"input\":\"Qual a temperatura em Floripa?\",\n",
    "\t\"agent_scratchpad\": format_to_openai_function_messages([(resposta_inicial, observacao)])\n",
    "})\n",
    "\n",
    "resposta_final"
   ]
  },
  {
   "cell_type": "code",
   "execution_count": 70,
   "metadata": {},
   "outputs": [],
   "source": [
    "from langchain.schema.agent import AgentFinish\n",
    "\n",
    "def run_agent(input):\n",
    "    passos_intermediarios = []\n",
    "    while True:\n",
    "        resposta = chain.invoke({\n",
    "            'input': input,\n",
    "            'agent_scratchpad': format_to_openai_function_messages(passos_intermediarios)\n",
    "        })\n",
    "        if isinstance(resposta, AgentFinish):\n",
    "            return resposta\n",
    "        observacao = tool_run[resposta.tool].run(resposta.tool_input)\n",
    "        passos_intermediarios.append((resposta, observacao))\n"
   ]
  },
  {
   "cell_type": "code",
   "execution_count": 71,
   "metadata": {},
   "outputs": [
    {
     "data": {
      "text/plain": [
       "AgentFinish(return_values={'output': 'A temperatura atual em Florianópolis é de 15.0ºC.'}, log='A temperatura atual em Florianópolis é de 15.0ºC.')"
      ]
     },
     "execution_count": 71,
     "metadata": {},
     "output_type": "execute_result"
    }
   ],
   "source": [
    "run_agent(\"Qual é a temperatura de Floripa?\")"
   ]
  },
  {
   "cell_type": "code",
   "execution_count": 72,
   "metadata": {},
   "outputs": [],
   "source": [
    "from langchain.schema.agent import AgentFinish\n",
    "from langchain.schema.runnable import RunnablePassthrough\n",
    "\n",
    "\n",
    "pass_through = RunnablePassthrough.assign(\n",
    "    agent_scratchpad = lambda x: format_to_openai_function_messages(x['intermediate_steps'])\n",
    ")\n",
    "chain = pass_through | prompt | chat.bind(functions=tools_json) | OpenAIFunctionsAgentOutputParser()\n",
    "\n",
    "def run_agent(input):\n",
    "    passos_intermediarios = []\n",
    "    while True:\n",
    "        resposta = chain.invoke({\n",
    "            'input': input,\n",
    "            'intermediate_steps': passos_intermediarios\n",
    "        })\n",
    "        if isinstance(resposta, AgentFinish):\n",
    "            return resposta\n",
    "        observacao = tool_run[resposta.tool].run(resposta.tool_input)\n",
    "        passos_intermediarios.append((resposta, observacao))\n"
   ]
  },
  {
   "cell_type": "code",
   "execution_count": 73,
   "metadata": {},
   "outputs": [
    {
     "data": {
      "text/plain": [
       "{'input': 'Qual é a temperatura de Floripa?',\n",
       " 'intermediate_steps': [],\n",
       " 'agent_scratchpad': []}"
      ]
     },
     "execution_count": 73,
     "metadata": {},
     "output_type": "execute_result"
    }
   ],
   "source": [
    "pass_through.invoke({\"input\": \"Qual é a temperatura de Floripa?\", \"intermediate_steps\":[]})"
   ]
  },
  {
   "cell_type": "code",
   "execution_count": 74,
   "metadata": {},
   "outputs": [
    {
     "data": {
      "text/plain": [
       "AgentFinish(return_values={'output': 'A temperatura atual em Florianópolis é de 15.0ºC.'}, log='A temperatura atual em Florianópolis é de 15.0ºC.')"
      ]
     },
     "execution_count": 74,
     "metadata": {},
     "output_type": "execute_result"
    }
   ],
   "source": [
    "run_agent(\"Qual a temperatura de Floripa?\")"
   ]
  },
  {
   "cell_type": "code",
   "execution_count": 75,
   "metadata": {},
   "outputs": [],
   "source": [
    "prompt = ChatPromptTemplate.from_messages([\n",
    "\t(\"system\", \"Você é um assistente amigável chamado Lucas\"),\n",
    "\t(\"user\", \"{input}\"),\n",
    "\tMessagesPlaceholder(variable_name=\"agent_scratchpad\")\n",
    "])\n",
    "\n",
    "pass_through = RunnablePassthrough.assign(\n",
    "\tagent_scratchpad = lambda x: format_to_openai_function_messages(x[\"intermediate_steps\"])\n",
    ")\n",
    "\n",
    "chain = pass_through | prompt | chat.bind(functions=tools_json) | OpenAIFunctionsAgentOutputParser()"
   ]
  },
  {
   "cell_type": "code",
   "execution_count": 76,
   "metadata": {},
   "outputs": [],
   "source": [
    "def run_agent(input):\n",
    "    passos_intermediarios = []\n",
    "    while True:\n",
    "        resposta = chain.invoke({\n",
    "            'input': input,\n",
    "            'intermediate_steps': passos_intermediarios\n",
    "        })\n",
    "        if isinstance(resposta, AgentFinish):\n",
    "            return resposta\n",
    "        observacao = tool_run[resposta.tool].run(resposta.tool_input)\n",
    "        passos_intermediarios.append((resposta, observacao))"
   ]
  }
 ],
 "metadata": {
  "kernelspec": {
   "display_name": ".venv",
   "language": "python",
   "name": "python3"
  },
  "language_info": {
   "codemirror_mode": {
    "name": "ipython",
    "version": 3
   },
   "file_extension": ".py",
   "mimetype": "text/x-python",
   "name": "python",
   "nbconvert_exporter": "python",
   "pygments_lexer": "ipython3",
   "version": "3.10.12"
  }
 },
 "nbformat": 4,
 "nbformat_minor": 2
}
