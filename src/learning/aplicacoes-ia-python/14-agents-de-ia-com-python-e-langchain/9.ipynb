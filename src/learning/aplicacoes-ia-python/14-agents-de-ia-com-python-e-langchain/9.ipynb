{
 "cells": [
  {
   "cell_type": "code",
   "execution_count": 2,
   "metadata": {},
   "outputs": [
    {
     "data": {
      "text/plain": [
       "StructuredTool(name='retorna_temperatura_atual', description='Faz busca online de temperatura de uma localidade', args_schema=<class 'pydantic.v1.main.retorna_temperatura_atualSchema'>, func=<function retorna_temperatura_atual at 0x7d03e41d41f0>)"
      ]
     },
     "execution_count": 2,
     "metadata": {},
     "output_type": "execute_result"
    }
   ],
   "source": [
    "from langchain.agents import tool\n",
    "\n",
    "@tool \n",
    "\n",
    "def retorna_temperatura_atual(localidade:str):\n",
    "    \"\"\"Faz busca online de temperatura de uma localidade\"\"\"\n",
    "    return '25°C'\n",
    "\n",
    "retorna_temperatura_atual"
   ]
  },
  {
   "cell_type": "code",
   "execution_count": 3,
   "metadata": {},
   "outputs": [
    {
     "data": {
      "text/plain": [
       "'retorna_temperatura_atual'"
      ]
     },
     "execution_count": 3,
     "metadata": {},
     "output_type": "execute_result"
    }
   ],
   "source": [
    "retorna_temperatura_atual.name"
   ]
  },
  {
   "cell_type": "code",
   "execution_count": 4,
   "metadata": {},
   "outputs": [
    {
     "data": {
      "text/plain": [
       "'Faz busca online de temperatura de uma localidade'"
      ]
     },
     "execution_count": 4,
     "metadata": {},
     "output_type": "execute_result"
    }
   ],
   "source": [
    "retorna_temperatura_atual.description"
   ]
  },
  {
   "cell_type": "code",
   "execution_count": 5,
   "metadata": {},
   "outputs": [
    {
     "data": {
      "text/plain": [
       "{'localidade': {'title': 'Localidade', 'type': 'string'}}"
      ]
     },
     "execution_count": 5,
     "metadata": {},
     "output_type": "execute_result"
    }
   ],
   "source": [
    "retorna_temperatura_atual.args"
   ]
  },
  {
   "cell_type": "code",
   "execution_count": 6,
   "metadata": {},
   "outputs": [
    {
     "data": {
      "text/plain": [
       "StructuredTool(name='retorna_temperatura_atual', description='Faz busca online de temperatura de uma localidade', args_schema=<class '__main__.RetornaTempArgs'>, func=<function retorna_temperatura_atual at 0x7d03c48a2b00>)"
      ]
     },
     "execution_count": 6,
     "metadata": {},
     "output_type": "execute_result"
    }
   ],
   "source": [
    "from langchain.agents import tool \n",
    "from langchain.pydantic_v1 import BaseModel, Field \n",
    "\n",
    "class RetornaTempArgs(BaseModel):\n",
    "    localidade:str = Field(description=\"Localidade a ser buscada\", examples=[\"São Paulo\", \"Porto Alegre\"])\n",
    "    \n",
    "@tool(args_schema=RetornaTempArgs)\n",
    "def retorna_temperatura_atual(localidade:str):\n",
    "    \"\"\"Faz busca online de temperatura de uma localidade\"\"\"\n",
    "    return \"25°C\"\n",
    "\n",
    "retorna_temperatura_atual"
   ]
  },
  {
   "cell_type": "code",
   "execution_count": 7,
   "metadata": {},
   "outputs": [
    {
     "data": {
      "text/plain": [
       "{'localidade': {'title': 'Localidade',\n",
       "  'description': 'Localidade a ser buscada',\n",
       "  'examples': ['São Paulo', 'Porto Alegre'],\n",
       "  'type': 'string'}}"
      ]
     },
     "execution_count": 7,
     "metadata": {},
     "output_type": "execute_result"
    }
   ],
   "source": [
    "retorna_temperatura_atual.args"
   ]
  },
  {
   "cell_type": "code",
   "execution_count": 8,
   "metadata": {},
   "outputs": [
    {
     "data": {
      "text/plain": [
       "'25°C'"
      ]
     },
     "execution_count": 8,
     "metadata": {},
     "output_type": "execute_result"
    }
   ],
   "source": [
    "retorna_temperatura_atual.invoke({\"localidade\":\"Porto Alegre\"})"
   ]
  },
  {
   "cell_type": "code",
   "execution_count": null,
   "metadata": {},
   "outputs": [],
   "source": []
  }
 ],
 "metadata": {
  "kernelspec": {
   "display_name": ".venv",
   "language": "python",
   "name": "python3"
  },
  "language_info": {
   "codemirror_mode": {
    "name": "ipython",
    "version": 3
   },
   "file_extension": ".py",
   "mimetype": "text/x-python",
   "name": "python",
   "nbconvert_exporter": "python",
   "pygments_lexer": "ipython3",
   "version": "3.10.12"
  }
 },
 "nbformat": 4,
 "nbformat_minor": 2
}
