{
 "cells": [
  {
   "cell_type": "markdown",
   "metadata": {},
   "source": [
    "# Sugestao da AI"
   ]
  },
  {
   "cell_type": "code",
   "execution_count": 4,
   "metadata": {},
   "outputs": [
    {
     "name": "stdout",
     "output_type": "stream",
     "text": [
      "MoviePy - Writing audio in audio.wav\n"
     ]
    },
    {
     "name": "stderr",
     "output_type": "stream",
     "text": [
      "                                                        "
     ]
    },
    {
     "name": "stdout",
     "output_type": "stream",
     "text": [
      "MoviePy - Done.\n"
     ]
    },
    {
     "name": "stderr",
     "output_type": "stream",
     "text": [
      "\r"
     ]
    },
    {
     "name": "stdout",
     "output_type": "stream",
     "text": [
      "Você disse: rapazes vamos começar a contar uma linda história parece que vai ser uma aventura e tanto diário de bordo fotos músicas e Animação coloque trecho para retrospectiva rico parece que temos um lindo trabalho para fazer vamos fazer uma linda retrospectiva animada é capaz do recruta não sobreviver simbora\n",
      "CPU times: user 81.4 ms, sys: 23.1 ms, total: 104 ms\n",
      "Wall time: 5.03 s\n"
     ]
    }
   ],
   "source": [
    "%%time\n",
    "import moviepy.editor as mp\n",
    "\n",
    "# Carregar o vídeo\n",
    "video = mp.VideoFileClip(\"videoTeste.mp4\")\n",
    "\n",
    "# Converter o vídeo para áudio\n",
    "audio = video.audio\n",
    "\n",
    "# Salvar o áudio em um arquivo\n",
    "audio.write_audiofile(\"audio.wav\")\n",
    "\n",
    "# Inicializar a biblioteca de reconhecimento de voz\n",
    "r = sr.Recognizer()\n",
    "\n",
    "# Usar o áudio para converter para texto\n",
    "with sr.AudioFile(\"audio.wav\") as source:\n",
    "    audio = r.record(source)\n",
    "\n",
    "# Tenta converter o áudio para texto\n",
    "try:\n",
    "    texto = r.recognize_google(audio, language='pt-BR')\n",
    "    print(\"Você disse:\", texto)\n",
    "except sr.UnknownValueError:\n",
    "    print(\"Não consegui entender o que você disse\")\n",
    "except sr.RequestError as e:\n",
    "    print(\"Ocorreu um erro:\", e)"
   ]
  },
  {
   "cell_type": "code",
   "execution_count": 20,
   "metadata": {},
   "outputs": [
    {
     "name": "stdout",
     "output_type": "stream",
     "text": [
      "MoviePy - Writing audio in audio.wav\n"
     ]
    },
    {
     "name": "stderr",
     "output_type": "stream",
     "text": [
      "                                                                      \r"
     ]
    },
    {
     "name": "stdout",
     "output_type": "stream",
     "text": [
      "MoviePy - Done.\n",
      "16 anos depois da Seleção Feminina de Futebol está de volta final Olímpica nesta terça-feira as meninas do Brasil se Viram Diante de um desafio Colossal a Espanha atual campeã do mundo e time com algumas das melhores jogadoras da atualidade com extrema aplicação tática e grandes atuações individuais o Brasil contou com a lambança da goleira cataclismos de jogo Depois de várias oportunidades perdidas o Brasil ampliou nos acréscimos da primeira etapa com Gabi Portilho e foi para os vestiários como a vantagem considerável no segundo tempo as chances continuaram aparecendo até que Adriana fez o terceiro e deixou amarelinha muito perto da vaga a Espanha até Tentou um abafa no final da partida e fez o gol de honra com paredes mas quero-lhe fez o quarto aos 46 com um toque malicioso por baixo das pernas da goleira com os acréscimos de 15 minutos a Espanha voltou a diminuir Mas não foi o suficiente para uma reação a grande final vai ser no próximo sábado justamente contra os americanos algozes das finais de 2004 e 2008\n",
      "CPU times: user 361 ms, sys: 41.2 ms, total: 402 ms\n",
      "Wall time: 17.2 s\n"
     ]
    }
   ],
   "source": [
    "%%time\n",
    "import speech_recognition as sr\n",
    "import moviepy.editor as mp\n",
    "\n",
    "r = sr.Recognizer()\n",
    "\n",
    "# Carregar o vídeo\n",
    "video = mp.VideoFileClip(\"olimpiadas.mp4\")\n",
    "\n",
    "# Extrair o áudio do vídeo\n",
    "audio = video.audio\n",
    "\n",
    "# Converter o áudio em um arquivo\n",
    "audio.write_audiofile(\"audio.wav\")\n",
    "\n",
    "# Carregar o arquivo de áudio\n",
    "audio = sr.AudioFile(\"audio.wav\")\n",
    "\n",
    "# Realizar a transcrição do áudio em texto\n",
    "with audio as source:\n",
    "    audio_data = r.record(source)\n",
    "    texto = r.recognize_google(audio_data, language=\"pt-BR\")\n",
    "\n",
    "print(texto)"
   ]
  },
  {
   "cell_type": "markdown",
   "metadata": {},
   "source": [
    "# Audio em memória\n"
   ]
  }
 ],
 "metadata": {
  "kernelspec": {
   "display_name": ".venv",
   "language": "python",
   "name": "python3"
  },
  "language_info": {
   "codemirror_mode": {
    "name": "ipython",
    "version": 3
   },
   "file_extension": ".py",
   "mimetype": "text/x-python",
   "name": "python",
   "nbconvert_exporter": "python",
   "pygments_lexer": "ipython3",
   "version": "3.10.12"
  }
 },
 "nbformat": 4,
 "nbformat_minor": 2
}
