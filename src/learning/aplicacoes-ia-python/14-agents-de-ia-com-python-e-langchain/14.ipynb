{
 "cells": [
  {
   "cell_type": "code",
   "execution_count": 10,
   "metadata": {},
   "outputs": [],
   "source": [
    "import requests\n",
    "import datetime\n",
    "\n",
    "from langchain.agents import tool\n",
    "from langchain.pydantic_v1 import BaseModel, Field\n",
    "from pytz import UTC \n",
    "\n",
    "import wikipedia\n",
    "wikipedia.set_lang('pt')\n",
    "\n",
    "class RetornTempArgs(BaseModel):\n",
    "    latitude: float = Field(description='Latitude da localidade que buscamos a temperatura')\n",
    "    longitude: float = Field(description='Longitude da localidade que buscamos a temperatura')\n",
    "\n",
    "\n",
    "@tool(args_schema=RetornTempArgs)\n",
    "def retorna_temperatura_atual(latitude: float, longitude: float):\n",
    "    '''Retorna a temperatura atual para uma dada coordenada'''\n",
    "\n",
    "    URL = 'https://api.open-meteo.com/v1/forecast'\n",
    "\n",
    "    params = {\n",
    "        'latitude': latitude,\n",
    "        'longitude': longitude,\n",
    "        'hourly': 'temperature_2m',\n",
    "        'forecast_days': 1,\n",
    "    }\n",
    "\n",
    "    resposta = requests.get(URL, params=params)\n",
    "    if resposta.status_code == 200:\n",
    "        resultado = resposta.json()\n",
    "        \n",
    "        hora_agora = datetime.datetime.now(UTC).replace(tzinfo=None)\n",
    "        lista_horas = [datetime.datetime.fromisoformat(temp_str) for temp_str in resultado['hourly']['time']]\n",
    "        index_mais_prox = min(range(len(lista_horas)), key=lambda x: abs(lista_horas[x] - hora_agora))\n",
    "\n",
    "        temp_atual = resultado['hourly']['temperature_2m'][index_mais_prox]\n",
    "        return f'{temp_atual}ºC'\n",
    "    else:\n",
    "        raise Exception(f'Request para API {URL} falhou: {resposta.status_code}')\n",
    "\n",
    "@tool\n",
    "def busca_wikipedia(query: str):\n",
    "    \"\"\"Faz busca no wikipedia e retorna resumos de páginas para a query\"\"\"\n",
    "    titulos_paginas = wikipedia.search(query)\n",
    "    resumos = []\n",
    "    for titulo in titulos_paginas[:3]:\n",
    "        try:\n",
    "            wiki_page = wikipedia.page(title=titulo, auto_suggest=True)\n",
    "            resumos.append(f'Título da página: {titulo}\\nResumo: {wiki_page.summary}')\n",
    "        except:\n",
    "            pass\n",
    "    if not resumos:\n",
    "        return 'Busca não teve retorno'\n",
    "    else:\n",
    "        return '\\n\\n'.join(resumos)"
   ]
  },
  {
   "cell_type": "code",
   "execution_count": 11,
   "metadata": {},
   "outputs": [],
   "source": [
    "from langchain.prompts import ChatPromptTemplate, MessagesPlaceholder \n",
    "from langchain_openai.chat_models import ChatOpenAI \n",
    "from langchain.schema.runnable import RunnablePassthrough \n",
    "from langchain.schema.agent import AgentFinish\n",
    "from langchain.agents.output_parsers import OpenAIFunctionsAgentOutputParser \n",
    "from langchain_core.utils.function_calling import convert_to_openai_function \n",
    "from langchain.agents.format_scratchpad import format_to_openai_function_messages\n",
    "\n",
    "chat = ChatOpenAI()\n",
    "\n",
    "tools = [busca_wikipedia, retorna_temperatura_atual]\n",
    "tools_json = [convert_to_openai_function(tool) for tool in tools]\n",
    "tool_run = {tool.name: tool for tool in tools}"
   ]
  },
  {
   "cell_type": "code",
   "execution_count": 12,
   "metadata": {},
   "outputs": [],
   "source": [
    "prompt = ChatPromptTemplate.from_messages([\n",
    "\t(\"system\", \"Você é um assistante amigável chamado Lucas\"),\n",
    "\t(\"user\", \"{input}\"),\n",
    "\tMessagesPlaceholder(variable_name=\"agent_scratchpad\")\n",
    "])\n",
    "\n",
    "pass_through = RunnablePassthrough.assign(\n",
    "\tagent_scratchpad = lambda x: format_to_openai_function_messages(x['intermediate_steps'])\n",
    ")\n",
    "\n",
    "agent_chain = pass_through | prompt | chat.bind(functions=tools_json) | OpenAIFunctionsAgentOutputParser()\n",
    "\n"
   ]
  },
  {
   "cell_type": "code",
   "execution_count": 13,
   "metadata": {},
   "outputs": [],
   "source": [
    "def run_agent(input):\n",
    "    passos_intermediarios = []\n",
    "    while True:\n",
    "        resposta = agent_chain.invoke({\n",
    "            'input': input,\n",
    "            'intermediate_steps': passos_intermediarios\n",
    "        })\n",
    "        if isinstance(resposta, AgentFinish):\n",
    "            return resposta\n",
    "        observacao = tool_run[resposta.tool].run(resposta.tool_input)\n",
    "        passos_intermediarios.append((resposta, observacao))"
   ]
  },
  {
   "cell_type": "code",
   "execution_count": 14,
   "metadata": {},
   "outputs": [
    {
     "data": {
      "text/plain": [
       "AgentFinish(return_values={'output': 'A temperatura em Porto Alegre é de 11.5ºC no momento.'}, log='A temperatura em Porto Alegre é de 11.5ºC no momento.')"
      ]
     },
     "execution_count": 14,
     "metadata": {},
     "output_type": "execute_result"
    }
   ],
   "source": [
    "resposta = run_agent({\"input\": \"Qual é a temperatura em Porto Alegre?\"})\n",
    "resposta"
   ]
  },
  {
   "cell_type": "code",
   "execution_count": 15,
   "metadata": {},
   "outputs": [],
   "source": [
    "from langchain.agents import AgentExecutor \n",
    "\n",
    "agent_executor = AgentExecutor(\n",
    "\tagent=agent_chain,\n",
    "\ttools=tools,\n",
    "\tverbose=True\n",
    ")"
   ]
  },
  {
   "cell_type": "code",
   "execution_count": 16,
   "metadata": {},
   "outputs": [
    {
     "name": "stdout",
     "output_type": "stream",
     "text": [
      "\n",
      "\n",
      "\u001b[1m> Entering new AgentExecutor chain...\u001b[0m\n",
      "\u001b[32;1m\u001b[1;3m\n",
      "Invoking: `retorna_temperatura_atual` with `{'latitude': -30.0346, 'longitude': -51.2177}`\n",
      "\n",
      "\n",
      "\u001b[0m\u001b[33;1m\u001b[1;3m11.5ºC\u001b[0m\u001b[32;1m\u001b[1;3mA temperatura atual em Porto Alegre é de 11.5ºC.\u001b[0m\n",
      "\n",
      "\u001b[1m> Finished chain.\u001b[0m\n"
     ]
    }
   ],
   "source": [
    "resposta = agent_executor.invoke({\"input\": \"Qual é a temperatura em Porto Alegre?\"})"
   ]
  },
  {
   "cell_type": "code",
   "execution_count": 17,
   "metadata": {},
   "outputs": [],
   "source": [
    "from langchain.memory import ConversationBufferMemory \n",
    "memory = ConversationBufferMemory(\n",
    "\treturn_messages=True,\n",
    "\tmemory_key='chat_history'\n",
    ")"
   ]
  },
  {
   "cell_type": "code",
   "execution_count": 18,
   "metadata": {},
   "outputs": [],
   "source": [
    "prompt = ChatPromptTemplate.from_messages([\n",
    "\t(\"system\", \"Você é um assistente amigável chamado Lucas\"),\n",
    "\tMessagesPlaceholder(variable_name=\"chat_history\"),\n",
    "\t('user', \"{input}\"),\n",
    "\tMessagesPlaceholder(variable_name=\"agent_scratchpad\")\n",
    "])\n",
    "\n",
    "pass_through = RunnablePassthrough.assign(\n",
    "\tagent_scratchpad = lambda x: format_to_openai_function_messages(x['intermediate_steps'])\n",
    ")\n",
    "\n",
    "agent_chain = pass_through | prompt | chat.bind(functions=tools_json) | OpenAIFunctionsAgentOutputParser()"
   ]
  },
  {
   "cell_type": "code",
   "execution_count": 19,
   "metadata": {},
   "outputs": [],
   "source": [
    "from langchain.agents import AgentExecutor \n",
    "\n",
    "agent_executor = AgentExecutor(\n",
    "\tagent=agent_chain,\n",
    "\ttools=tools,\n",
    "\tmemory=memory,\n",
    "\tverbose=True \n",
    ")"
   ]
  },
  {
   "cell_type": "code",
   "execution_count": 22,
   "metadata": {},
   "outputs": [
    {
     "name": "stdout",
     "output_type": "stream",
     "text": [
      "\n",
      "\n",
      "\u001b[1m> Entering new AgentExecutor chain...\u001b[0m\n",
      "\u001b[32;1m\u001b[1;3mDesculpe, John! Como posso te ajudar hoje?\u001b[0m\n",
      "\n",
      "\u001b[1m> Finished chain.\u001b[0m\n"
     ]
    },
    {
     "data": {
      "text/plain": [
       "{'input': 'Meu nome é John',\n",
       " 'chat_history': [HumanMessage(content='Meu nome é Lucas'),\n",
       "  AIMessage(content='Olá Lucas! Como posso te ajudar hoje?'),\n",
       "  HumanMessage(content='Qual o meu nome?'),\n",
       "  AIMessage(content='Seu nome é Lucas. Como posso te ajudar hoje, Lucas?'),\n",
       "  HumanMessage(content='Meu nome é John'),\n",
       "  AIMessage(content='Desculpe, John! Como posso te ajudar hoje?')],\n",
       " 'output': 'Desculpe, John! Como posso te ajudar hoje?'}"
      ]
     },
     "execution_count": 22,
     "metadata": {},
     "output_type": "execute_result"
    }
   ],
   "source": [
    "resposta = agent_executor.invoke({\"input\": \"Meu nome é John\"})\n",
    "resposta"
   ]
  },
  {
   "cell_type": "code",
   "execution_count": 23,
   "metadata": {},
   "outputs": [
    {
     "name": "stdout",
     "output_type": "stream",
     "text": [
      "\n",
      "\n",
      "\u001b[1m> Entering new AgentExecutor chain...\u001b[0m\n",
      "\u001b[32;1m\u001b[1;3mSeu nome é John. Como posso te ajudar hoje, John?\u001b[0m\n",
      "\n",
      "\u001b[1m> Finished chain.\u001b[0m\n"
     ]
    }
   ],
   "source": [
    "resposta = agent_executor.invoke({\"input\": \"Qual o meu nome?\"})"
   ]
  }
 ],
 "metadata": {
  "kernelspec": {
   "display_name": ".venv",
   "language": "python",
   "name": "python3"
  },
  "language_info": {
   "codemirror_mode": {
    "name": "ipython",
    "version": 3
   },
   "file_extension": ".py",
   "mimetype": "text/x-python",
   "name": "python",
   "nbconvert_exporter": "python",
   "pygments_lexer": "ipython3",
   "version": "3.10.12"
  }
 },
 "nbformat": 4,
 "nbformat_minor": 2
}
