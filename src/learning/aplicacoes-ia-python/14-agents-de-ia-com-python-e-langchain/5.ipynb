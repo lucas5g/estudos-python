{
 "cells": [
  {
   "cell_type": "code",
   "execution_count": 52,
   "metadata": {},
   "outputs": [],
   "source": [
    "import json \n",
    "import openai \n",
    "\n",
    "client = openai.Client()"
   ]
  },
  {
   "cell_type": "code",
   "execution_count": 53,
   "metadata": {},
   "outputs": [
    {
     "data": {
      "text/plain": [
       "'{\"local\": \"Minas Gerais\", \"temperatura\": 33}'"
      ]
     },
     "execution_count": 53,
     "metadata": {},
     "output_type": "execute_result"
    }
   ],
   "source": [
    "def obter_temperatura_atual(local:str, unidade=\"celsius\"):\n",
    "    cidades = {\n",
    "\t\t\"São paulo\": 32,\n",
    "\t\t\"Porto Alegre\": 25,\n",
    "\t\t\"Minas Gerais\": 33\n",
    "\t}\n",
    "    \n",
    "    return json.dumps({\"local\": local, \"temperatura\": cidades.get(local)})\n",
    "    \n",
    "obter_temperatura_atual(\"Minas Gerais\")"
   ]
  },
  {
   "cell_type": "code",
   "execution_count": 54,
   "metadata": {},
   "outputs": [],
   "source": [
    "tools = [\n",
    "    {\n",
    "        \"type\": \"function\",\n",
    "        \"function\": {\n",
    "            \"name\": \"obter_temperatura_atual\",\n",
    "            \"description\": \"Obtém a temperatura atual em uma dada cidade\",\n",
    "            \"parameters\": {\n",
    "                \"type\": \"object\",\n",
    "                \"properties\": {\n",
    "                    \"local\": {\n",
    "                        \"type\": \"string\",\n",
    "                        \"description\": \"O nome da cidade. Ex: São Paulo\",\n",
    "                    },\n",
    "                    \"unidade\": {\"type\": \"string\", \"enum\": [\"celsius\", \"fahrenheit\"]},\n",
    "                },\n",
    "                \"required\": [\"local\"],\n",
    "            },\n",
    "        },\n",
    "    }\n",
    "]"
   ]
  },
  {
   "cell_type": "code",
   "execution_count": 55,
   "metadata": {},
   "outputs": [
    {
     "data": {
      "text/plain": [
       "ChatCompletion(id='chatcmpl-9u2lCSBm8pDo3dUPCdBHL2Z0zlluR', choices=[Choice(finish_reason='tool_calls', index=0, logprobs=None, message=ChatCompletionMessage(content=None, role='assistant', function_call=None, tool_calls=[ChatCompletionMessageToolCall(id='call_bM2oqkvipySzd6OAXHCdymYm', function=Function(arguments='{\"local\":\"Minas Gerais\",\"unidade\":\"celsius\"}', name='obter_temperatura_atual'), type='function')], refusal=None))], created=1723144006, model='gpt-3.5-turbo-0125', object='chat.completion', service_tier=None, system_fingerprint=None, usage=CompletionUsage(completion_tokens=27, prompt_tokens=86, total_tokens=113))"
      ]
     },
     "execution_count": 55,
     "metadata": {},
     "output_type": "execute_result"
    }
   ],
   "source": [
    "mensagens = [{\"role\": \"user\", \"content\": \"Qual a temperatura de Minas Gerais?\"}]\n",
    "\n",
    "res = client.chat.completions.create(\n",
    "\tmodel='gpt-3.5-turbo',\n",
    "\tmessages=mensagens,\n",
    "\ttools=tools,\n",
    "\t\n",
    ")\n",
    "\n",
    "res"
   ]
  },
  {
   "cell_type": "code",
   "execution_count": 56,
   "metadata": {},
   "outputs": [],
   "source": [
    "mensagem = res.choices[0].message"
   ]
  },
  {
   "cell_type": "code",
   "execution_count": 57,
   "metadata": {},
   "outputs": [],
   "source": [
    "mensagem.content"
   ]
  },
  {
   "cell_type": "code",
   "execution_count": 58,
   "metadata": {},
   "outputs": [
    {
     "data": {
      "text/plain": [
       "[ChatCompletionMessageToolCall(id='call_bM2oqkvipySzd6OAXHCdymYm', function=Function(arguments='{\"local\":\"Minas Gerais\",\"unidade\":\"celsius\"}', name='obter_temperatura_atual'), type='function')]"
      ]
     },
     "execution_count": 58,
     "metadata": {},
     "output_type": "execute_result"
    }
   ],
   "source": [
    "mensagem.tool_calls"
   ]
  },
  {
   "cell_type": "code",
   "execution_count": 59,
   "metadata": {},
   "outputs": [
    {
     "name": "stdout",
     "output_type": "stream",
     "text": [
      "obter_temperatura_atual\n",
      "{\"local\":\"Minas Gerais\",\"unidade\":\"celsius\"}\n"
     ]
    }
   ],
   "source": [
    "tools_call = mensagem.tool_calls[0]\n",
    "print(tools_call.function.name)\n",
    "print(tools_call.function.arguments)"
   ]
  },
  {
   "cell_type": "code",
   "execution_count": 60,
   "metadata": {},
   "outputs": [
    {
     "data": {
      "text/plain": [
       "'{\"local\": \"Minas Gerais\", \"temperatura\": 33}'"
      ]
     },
     "execution_count": 60,
     "metadata": {},
     "output_type": "execute_result"
    }
   ],
   "source": [
    "observacao = obter_temperatura_atual(**json.loads(tools_call.function.arguments))\n",
    "observacao"
   ]
  },
  {
   "cell_type": "code",
   "execution_count": 61,
   "metadata": {},
   "outputs": [],
   "source": [
    "mensagens.append(mensagem)"
   ]
  },
  {
   "cell_type": "code",
   "execution_count": 62,
   "metadata": {},
   "outputs": [
    {
     "data": {
      "text/plain": [
       "[{'role': 'user', 'content': 'Qual a temperatura de Minas Gerais?'},\n",
       " ChatCompletionMessage(content=None, role='assistant', function_call=None, tool_calls=[ChatCompletionMessageToolCall(id='call_bM2oqkvipySzd6OAXHCdymYm', function=Function(arguments='{\"local\":\"Minas Gerais\",\"unidade\":\"celsius\"}', name='obter_temperatura_atual'), type='function')], refusal=None),\n",
       " {'tool_call_id': 'call_bM2oqkvipySzd6OAXHCdymYm',\n",
       "  'role': 'tool',\n",
       "  'name': 'obter_temperatura_atual',\n",
       "  'content': '{\"local\": \"Minas Gerais\", \"temperatura\": 33}'}]"
      ]
     },
     "execution_count": 62,
     "metadata": {},
     "output_type": "execute_result"
    }
   ],
   "source": [
    "mensagens.append({\n",
    "    'tool_call_id': tools_call.id,\n",
    "    'role': 'tool',\n",
    "    'name': tools_call.function.name,\n",
    "    'content': observacao\n",
    "})\n",
    "mensagens"
   ]
  },
  {
   "cell_type": "code",
   "execution_count": 63,
   "metadata": {},
   "outputs": [
    {
     "data": {
      "text/plain": [
       "[{'role': 'user', 'content': 'Qual a temperatura de Minas Gerais?'},\n",
       " ChatCompletionMessage(content=None, role='assistant', function_call=None, tool_calls=[ChatCompletionMessageToolCall(id='call_bM2oqkvipySzd6OAXHCdymYm', function=Function(arguments='{\"local\":\"Minas Gerais\",\"unidade\":\"celsius\"}', name='obter_temperatura_atual'), type='function')], refusal=None),\n",
       " {'tool_call_id': 'call_bM2oqkvipySzd6OAXHCdymYm',\n",
       "  'role': 'tool',\n",
       "  'name': 'obter_temperatura_atual',\n",
       "  'content': '{\"local\": \"Minas Gerais\", \"temperatura\": 33}'}]"
      ]
     },
     "execution_count": 63,
     "metadata": {},
     "output_type": "execute_result"
    }
   ],
   "source": [
    "mensagens"
   ]
  },
  {
   "cell_type": "code",
   "execution_count": 64,
   "metadata": {},
   "outputs": [
    {
     "data": {
      "text/plain": [
       "ChatCompletion(id='chatcmpl-9u2lDRRfuetRvstPjwdADt7FZueY5', choices=[Choice(finish_reason='stop', index=0, logprobs=None, message=ChatCompletionMessage(content='A temperatura atual em Minas Gerais é de 33°C.', role='assistant', function_call=None, tool_calls=None, refusal=None))], created=1723144007, model='gpt-3.5-turbo-0125', object='chat.completion', service_tier=None, system_fingerprint=None, usage=CompletionUsage(completion_tokens=15, prompt_tokens=142, total_tokens=157))"
      ]
     },
     "execution_count": 64,
     "metadata": {},
     "output_type": "execute_result"
    }
   ],
   "source": [
    "resposta = client.chat.completions.create(\n",
    "    model='gpt-3.5-turbo-0125',\n",
    "    messages=mensagens,\n",
    "    tools=tools,\n",
    "    tool_choice='auto'\n",
    ")\n",
    "resposta"
   ]
  },
  {
   "cell_type": "code",
   "execution_count": 65,
   "metadata": {},
   "outputs": [
    {
     "data": {
      "text/plain": [
       "'A temperatura atual em Minas Gerais é de 33°C.'"
      ]
     },
     "execution_count": 65,
     "metadata": {},
     "output_type": "execute_result"
    }
   ],
   "source": [
    "resposta.choices[0].message.content"
   ]
  }
 ],
 "metadata": {
  "kernelspec": {
   "display_name": ".venv",
   "language": "python",
   "name": "python3"
  },
  "language_info": {
   "codemirror_mode": {
    "name": "ipython",
    "version": 3
   },
   "file_extension": ".py",
   "mimetype": "text/x-python",
   "name": "python",
   "nbconvert_exporter": "python",
   "pygments_lexer": "ipython3",
   "version": "3.10.12"
  }
 },
 "nbformat": 4,
 "nbformat_minor": 2
}
