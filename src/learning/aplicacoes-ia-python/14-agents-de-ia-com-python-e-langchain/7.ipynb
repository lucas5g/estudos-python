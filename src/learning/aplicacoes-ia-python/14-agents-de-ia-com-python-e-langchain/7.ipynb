{
 "cells": [
  {
   "cell_type": "code",
   "execution_count": 4,
   "metadata": {},
   "outputs": [],
   "source": [
    "from langchain.pydantic_v1 import BaseModel, Field\n",
    "from langchain_core.utils.function_calling import convert_to_openai_function"
   ]
  },
  {
   "cell_type": "code",
   "execution_count": 6,
   "metadata": {},
   "outputs": [
    {
     "data": {
      "text/plain": [
       "{'name': 'Sentimento',\n",
       " 'description': 'Define o sentimento e a língua da mensagem enviada',\n",
       " 'parameters': {'type': 'object',\n",
       "  'properties': {'sentimento': {'description': \"Sentimento do texto. Deve ser 'pos', 'neg' ou 'nd' para não definida.\",\n",
       "    'type': 'string'},\n",
       "   'lingua': {'description': 'Língua que o texto foi escrito (deve estar no formato ISO 639-1)',\n",
       "    'type': 'string'}},\n",
       "  'required': ['sentimento', 'lingua']}}"
      ]
     },
     "execution_count": 6,
     "metadata": {},
     "output_type": "execute_result"
    }
   ],
   "source": [
    "class Sentimento(BaseModel):\n",
    "    \"\"\"Define o sentimento e a língua da mensagem enviada\"\"\"\n",
    "    sentimento: str = Field(description=\"Sentimento do texto. Deve ser 'pos', 'neg' ou 'nd' para não definida.\")\n",
    "    lingua: str = Field(description=\"Língua que o texto foi escrito (deve estar no formato ISO 639-1)\")\n",
    "    \n",
    "tool_sentimento = convert_to_openai_function(Sentimento)\n",
    "tool_sentimento"
   ]
  },
  {
   "cell_type": "code",
   "execution_count": 7,
   "metadata": {},
   "outputs": [],
   "source": [
    "texto = \"Eu gosto muito de massa aos quatro queijos\""
   ]
  },
  {
   "cell_type": "code",
   "execution_count": 12,
   "metadata": {},
   "outputs": [],
   "source": [
    "from langchain.prompts import ChatPromptTemplate \n",
    "from langchain_openai import ChatOpenAI \n",
    "\n",
    "prompt = ChatPromptTemplate([\n",
    "\t(\"system\", \"Pense com cuidado ao categorizar o texto conforme as instrunções\"),\n",
    "\t(\"user\", \"{input}\")\n",
    "])\n",
    "\n",
    "chat = ChatOpenAI() \n",
    "\n",
    "chain = prompt | chat.bind(functions=[tool_sentimento], function_call={\"name\": \"Sentimento\"})"
   ]
  },
  {
   "cell_type": "code",
   "execution_count": 13,
   "metadata": {},
   "outputs": [
    {
     "data": {
      "text/plain": [
       "AIMessage(content='', additional_kwargs={'function_call': {'arguments': '{\"sentimento\":\"pos\",\"lingua\":\"pt\"}', 'name': 'Sentimento'}}, response_metadata={'token_usage': {'completion_tokens': 11, 'prompt_tokens': 144, 'total_tokens': 155}, 'model_name': 'gpt-3.5-turbo-0125', 'system_fingerprint': None, 'finish_reason': 'stop', 'logprobs': None}, id='run-0f4dbecb-61ba-435d-bd04-999d4cf5b4b4-0', usage_metadata={'input_tokens': 144, 'output_tokens': 11, 'total_tokens': 155})"
      ]
     },
     "execution_count": 13,
     "metadata": {},
     "output_type": "execute_result"
    }
   ],
   "source": [
    "chain.invoke({\"input\":\"Eu gosto muito de mass ao quatro queijos\"})"
   ]
  },
  {
   "cell_type": "code",
   "execution_count": 14,
   "metadata": {},
   "outputs": [],
   "source": [
    "duvidas = [\n",
    "    \"Bom dia, gostaria de saber se há um certificado final para cada trilha ou se os certificados são somente para os cursos e projetos? Obrigado!\",\n",
    "    \"In Etsy, Amazon, eBay, Shopify https://pint77.com Pinterest+SEO +II = high sales results\",\n",
    "    \"Boa tarde, estou iniciando hoje e estou perdido. Tenho vários objetivos. Não sei nada programação, exceto que utilizo o Power automate desktop da Microsoft. Quero aprender tudo na plataforma que se relacione ao Trading de criptomoedas. Quero automatizar Tradings, fazer o sistema reconhecer padrões, comprar e vender segundo critérios que eu defina, etc. Também tenho objetivos de aprender o máximo para utilizar em automações no trabalho também, que envolve a área jurídica e trabalho em processos. Como sou fã de eletrônica e tenho cursos na área, também queria aprender o que precisa para automatizacões diversas. Existe algum curso ou trilha que me prepare com base para todas essas áreas ao mesmo tempo e a partir dele eu aprenda isoladamente aquilo que seria exigido para aplicar aos meus projetos?\",\n",
    "    \"Bom dia, Havia pedido cancelamento de minha mensalidade no mes 2 e continuaram cobrando. Peço cancelamento da assinatura. Peço por gentileza, para efetivarem o cancelamento da assomatura e pagamento.\",\n",
    "    \"Bom dia. Não estou conseguindo tirar os certificados dos cursos que concluí. Por exemplo, já consegui 100% no python starter, porém, não consigo tirar o certificado. Como faço?\",\n",
    "    \"Bom dia. Não enconte no site o preço de um curso avulso. SAberiam me informar?\",\n",
    "]"
   ]
  },
  {
   "cell_type": "code",
   "execution_count": 15,
   "metadata": {},
   "outputs": [],
   "source": [
    "from enum import Enum \n",
    "from langchain.pydantic_v1 import BaseModel, Field \n",
    "\n",
    "class SetorEnum(str, Enum):\n",
    "    atendimento_client = \"atendimento_cliente\"\n",
    "    duvidas_aluno = \"duvidas_alunos\"\n",
    "    vendas=\"vendas\"\n",
    "    spam=\"spam\"\n",
    "    \n",
    "class DirecionaSetorResponsavel(BaseModel):\n",
    "    \"\"\"Direcione a dúvida de um cliente ou aluno da escola de programação asimov para o setor responsável\"\"\"\n",
    "    setor: SetorEnum"
   ]
  },
  {
   "cell_type": "code",
   "execution_count": 16,
   "metadata": {},
   "outputs": [
    {
     "data": {
      "text/plain": [
       "{'name': 'DirecionaSetorResponsavel',\n",
       " 'description': 'Direcione a dúvida de um cliente ou aluno da escola de programação asimov para o setor responsável',\n",
       " 'parameters': {'type': 'object',\n",
       "  'properties': {'setor': {'description': 'An enumeration.',\n",
       "    'enum': ['atendimento_cliente', 'duvidas_alunos', 'vendas', 'spam'],\n",
       "    'type': 'string'}},\n",
       "  'required': ['setor']}}"
      ]
     },
     "execution_count": 16,
     "metadata": {},
     "output_type": "execute_result"
    }
   ],
   "source": [
    "from langchain_core.utils.function_calling import convert_to_openai_function \n",
    "\n",
    "tool_direcionamento = convert_to_openai_function(DirecionaSetorResponsavel)\n",
    "tool_direcionamento"
   ]
  },
  {
   "cell_type": "code",
   "execution_count": 17,
   "metadata": {},
   "outputs": [],
   "source": [
    "from langchain.prompts import ChatPromptTemplate \n",
    "from langchain_openai import ChatOpenAI \n",
    "from langchain.output_parsers.openai_functions import JsonOutputFunctionsParser\n",
    "\n",
    "prompt = ChatPromptTemplate.from_messages([\n",
    "\t(\"system\", \"Pense com cuidado ao categorizar o texto conforme as instruções\"),\n",
    "\t('user', \"{input}\")\n",
    "])\n",
    "\n",
    "chat = ChatOpenAI()\n",
    "\n",
    "chain = (prompt | chat.bind(functions=[tool_direcionamento], function_call={\"name\":\"DirecionaSetorResponsavel\"}) | JsonOutputFunctionsParser()) \n",
    "\n"
   ]
  },
  {
   "cell_type": "code",
   "execution_count": 18,
   "metadata": {},
   "outputs": [
    {
     "name": "stdout",
     "output_type": "stream",
     "text": [
      "Dúvida:  Bom dia. Não enconte no site o preço de um curso avulso. SAberiam me informar?\n",
      "Resposta:  {'setor': 'atendimento_cliente'}\n"
     ]
    }
   ],
   "source": [
    "duvida = duvidas[5]\n",
    "\n",
    "res = chain.invoke({\"input\": duvida})\n",
    "print(\"Dúvida: \", duvida)\n",
    "print(\"Resposta: \", res)"
   ]
  },
  {
   "cell_type": "code",
   "execution_count": 19,
   "metadata": {},
   "outputs": [],
   "source": [
    "from langchain.prompts import ChatPromptTemplate\n",
    "from langchain_openai import ChatOpenAI\n",
    "from langchain.output_parsers.openai_functions import JsonOutputFunctionsParser\n",
    "\n",
    "system_message = '''Pense com cuidado ao categorizar o texto conforme as instruções.\n",
    "Questões relacionadas a dúvidas de preço, sobre o produto, como funciona devem ser direciodas para \"vendas\".\n",
    "Questões relacionadas a conta, acesso a plataforma, a cancelamento e renovação de assinatura para devem ser direciodas para \"atendimento_cliente\".\n",
    "Questões relacionadas a dúvidas técnicas de programação, conteúdos da plataforma ou tecnologias na área da programação devem ser direciodas para \"duvidas_alunos\".\n",
    "Mensagens suspeitas, em outras línguas que não português, contendo links devem ser direciodas para \"spam\".\n",
    "'''\n",
    "\n",
    "prompt = ChatPromptTemplate.from_messages([\n",
    "    ('system', system_message),\n",
    "    ('user', '{input}')\n",
    "])\n",
    "chat = ChatOpenAI()\n",
    "\n",
    "chain = (prompt \n",
    "         | chat.bind(functions=[tool_direcionamento], function_call={'name': 'DirecionaSetorResponsavel'})\n",
    "         | JsonOutputFunctionsParser())"
   ]
  },
  {
   "cell_type": "code",
   "execution_count": 20,
   "metadata": {},
   "outputs": [
    {
     "name": "stdout",
     "output_type": "stream",
     "text": [
      "Dúvida:  Bom dia, gostaria de saber se há um certificado final para cada trilha ou se os certificados são somente para os cursos e projetos? Obrigado!\n",
      "Resposta:  {'setor': 'duvidas_alunos'}\n",
      "\n",
      "\n",
      "\n",
      "Dúvida:  In Etsy, Amazon, eBay, Shopify https://pint77.com Pinterest+SEO +II = high sales results\n",
      "Resposta:  {'setor': 'spam'}\n",
      "\n",
      "\n",
      "\n",
      "Dúvida:  Boa tarde, estou iniciando hoje e estou perdido. Tenho vários objetivos. Não sei nada programação, exceto que utilizo o Power automate desktop da Microsoft. Quero aprender tudo na plataforma que se relacione ao Trading de criptomoedas. Quero automatizar Tradings, fazer o sistema reconhecer padrões, comprar e vender segundo critérios que eu defina, etc. Também tenho objetivos de aprender o máximo para utilizar em automações no trabalho também, que envolve a área jurídica e trabalho em processos. Como sou fã de eletrônica e tenho cursos na área, também queria aprender o que precisa para automatizacões diversas. Existe algum curso ou trilha que me prepare com base para todas essas áreas ao mesmo tempo e a partir dele eu aprenda isoladamente aquilo que seria exigido para aplicar aos meus projetos?\n",
      "Resposta:  {'setor': 'duvidas_alunos'}\n",
      "\n",
      "\n",
      "\n",
      "Dúvida:  Bom dia, Havia pedido cancelamento de minha mensalidade no mes 2 e continuaram cobrando. Peço cancelamento da assinatura. Peço por gentileza, para efetivarem o cancelamento da assomatura e pagamento.\n",
      "Resposta:  {'setor': 'atendimento_cliente'}\n",
      "\n",
      "\n",
      "\n",
      "Dúvida:  Bom dia. Não estou conseguindo tirar os certificados dos cursos que concluí. Por exemplo, já consegui 100% no python starter, porém, não consigo tirar o certificado. Como faço?\n",
      "Resposta:  {'setor': 'atendimento_cliente'}\n",
      "\n",
      "\n",
      "\n",
      "Dúvida:  Bom dia. Não enconte no site o preço de um curso avulso. SAberiam me informar?\n",
      "Resposta:  {'setor': 'vendas'}\n",
      "\n",
      "\n",
      "\n"
     ]
    }
   ],
   "source": [
    "for duvida in duvidas:\n",
    "    res = chain.invoke({\"input\": duvida})\n",
    "    print(\"Dúvida: \", duvida)\n",
    "    print(\"Resposta: \", res)\n",
    "    print(\"\\n\\n\")\n",
    "    "
   ]
  }
 ],
 "metadata": {
  "kernelspec": {
   "display_name": ".venv",
   "language": "python",
   "name": "python3"
  },
  "language_info": {
   "codemirror_mode": {
    "name": "ipython",
    "version": 3
   },
   "file_extension": ".py",
   "mimetype": "text/x-python",
   "name": "python",
   "nbconvert_exporter": "python",
   "pygments_lexer": "ipython3",
   "version": "3.10.12"
  }
 },
 "nbformat": 4,
 "nbformat_minor": 2
}
