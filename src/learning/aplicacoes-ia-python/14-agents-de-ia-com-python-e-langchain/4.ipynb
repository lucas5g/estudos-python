{
 "cells": [
  {
   "cell_type": "code",
   "execution_count": 2,
   "metadata": {},
   "outputs": [],
   "source": [
    "from langchain_openai import ChatOpenAI\n",
    "from langchain_core.prompts import ChatPromptTemplate \n",
    "\n",
    "model = ChatOpenAI(model=\"gpt-3.5-turbo\")\n",
    "prompt = ChatPromptTemplate.from_template(\"Crie uma frase sobre o assunto: {assunto}\")\n",
    "\n",
    "chain = prompt | model"
   ]
  },
  {
   "cell_type": "code",
   "execution_count": 3,
   "metadata": {},
   "outputs": [
    {
     "data": {
      "text/plain": [
       "AIMessage(content='\"A psicóloga de robôs desempenha um papel fundamental na compreensão e no desenvolvimento da inteligência artificial, garantindo que essas máquinas possam interagir de forma ética e empática com os humanos.\"', response_metadata={'token_usage': {'completion_tokens': 56, 'prompt_tokens': 23, 'total_tokens': 79}, 'model_name': 'gpt-3.5-turbo-0125', 'system_fingerprint': None, 'finish_reason': 'stop', 'logprobs': None}, id='run-abe9aa38-e4c6-481b-af00-a4a405dbd95f-0', usage_metadata={'input_tokens': 23, 'output_tokens': 56, 'total_tokens': 79})"
      ]
     },
     "execution_count": 3,
     "metadata": {},
     "output_type": "execute_result"
    }
   ],
   "source": [
    "chain.invoke({\"assunto\": \"psicologa de robos\"})"
   ]
  },
  {
   "cell_type": "code",
   "execution_count": 4,
   "metadata": {},
   "outputs": [
    {
     "data": {
      "text/plain": [
       "AIMessage(content='Os robôs são a prova viva de que a tecnologia é capaz de nos surpreender e facilitar nossas vidas de formas inimagináveis.', response_metadata={'token_usage': {'completion_tokens': 35, 'prompt_tokens': 18, 'total_tokens': 53}, 'model_name': 'gpt-3.5-turbo-0125', 'system_fingerprint': None, 'finish_reason': 'stop', 'logprobs': None}, id='run-92f25002-6674-4ba7-91cb-a9c69ca40e7d-0', usage_metadata={'input_tokens': 18, 'output_tokens': 35, 'total_tokens': 53})"
      ]
     },
     "execution_count": 4,
     "metadata": {},
     "output_type": "execute_result"
    }
   ],
   "source": [
    "chain.invoke(\"robos\")"
   ]
  },
  {
   "cell_type": "code",
   "execution_count": 5,
   "metadata": {},
   "outputs": [
    {
     "name": "stdout",
     "output_type": "stream",
     "text": [
      "Os robôs na portaria trazem eficiência e segurança para o ambiente, tornando a experiência dos moradores mais tranquila."
     ]
    }
   ],
   "source": [
    "for chunk in chain.stream({\"assunto\": \"robo e portaria\"}):\n",
    "    print(chunk.content, end='')"
   ]
  },
  {
   "cell_type": "code",
   "execution_count": 6,
   "metadata": {},
   "outputs": [
    {
     "data": {
      "text/plain": [
       "[AIMessage(content='Os cachorros robôs são a prova de que a tecnologia pode ser tão leal e amorosa quanto um animal de verdade.', response_metadata={'token_usage': {'completion_tokens': 29, 'prompt_tokens': 20, 'total_tokens': 49}, 'model_name': 'gpt-3.5-turbo-0125', 'system_fingerprint': None, 'finish_reason': 'stop', 'logprobs': None}, id='run-6412b281-b60d-4055-bf53-c0b6f9a75144-0', usage_metadata={'input_tokens': 20, 'output_tokens': 29, 'total_tokens': 49}),\n",
       " AIMessage(content='\"O psicólogo de robôs ajuda a entender e aprimorar a complexidade das emoções e comportamentos das máquinas, garantindo um melhor desempenho e interação com os humanos.\"', response_metadata={'token_usage': {'completion_tokens': 49, 'prompt_tokens': 23, 'total_tokens': 72}, 'model_name': 'gpt-3.5-turbo-0125', 'system_fingerprint': None, 'finish_reason': 'stop', 'logprobs': None}, id='run-2dc3979e-7640-4938-a4fb-02f5263a3bef-0', usage_metadata={'input_tokens': 23, 'output_tokens': 49, 'total_tokens': 72})]"
      ]
     },
     "execution_count": 6,
     "metadata": {},
     "output_type": "execute_result"
    }
   ],
   "source": [
    "chain.batch([{\"assunto\": \"cachorro robo\"}, {\"assunto\":\"psicologo de robo\"}])\n",
    "\n"
   ]
  },
  {
   "cell_type": "code",
   "execution_count": 7,
   "metadata": {},
   "outputs": [],
   "source": [
    "import asyncio\n",
    "\n",
    "async def processa_chain(input):\n",
    "    res = await chain.ainvoke(input)\n",
    "    return res"
   ]
  },
  {
   "cell_type": "code",
   "execution_count": 8,
   "metadata": {},
   "outputs": [
    {
     "data": {
      "text/plain": [
       "AIMessage(content='\"O psicólogo de robôs ajuda a compreender e cuidar da saúde mental das máquinas, garantindo seu bom funcionamento e interação com os humanos.\"', response_metadata={'token_usage': {'completion_tokens': 41, 'prompt_tokens': 23, 'total_tokens': 64}, 'model_name': 'gpt-3.5-turbo-0125', 'system_fingerprint': None, 'finish_reason': 'stop', 'logprobs': None}, id='run-ee1abd5b-9a8e-4dd1-83d8-e3e3ecd0fffb-0', usage_metadata={'input_tokens': 23, 'output_tokens': 41, 'total_tokens': 64})"
      ]
     },
     "execution_count": 8,
     "metadata": {},
     "output_type": "execute_result"
    }
   ],
   "source": [
    "task1 = asyncio.create_task(processa_chain({\"assunto\": \"gato robo\"}))\n",
    "task2 = asyncio.create_task(processa_chain({\"assunto\": \"baba robo\"}))\n",
    "task3 = asyncio.create_task(processa_chain({\"assunto\": \"psicologo de robo\"}))\n",
    "\n",
    "await task1 \n",
    "await task2 \n",
    "await task3"
   ]
  },
  {
   "cell_type": "code",
   "execution_count": 9,
   "metadata": {},
   "outputs": [
    {
     "data": {
      "text/plain": [
       "AIMessage(content='\"O futuro da babá robô promete revolucionar a forma como cuidamos e educamos nossas crianças.\"', response_metadata={'token_usage': {'completion_tokens': 26, 'prompt_tokens': 20, 'total_tokens': 46}, 'model_name': 'gpt-3.5-turbo-0125', 'system_fingerprint': None, 'finish_reason': 'stop', 'logprobs': None}, id='run-820bc4dc-3810-4495-a5df-7721cd0d5ef0-0', usage_metadata={'input_tokens': 20, 'output_tokens': 26, 'total_tokens': 46})"
      ]
     },
     "execution_count": 9,
     "metadata": {},
     "output_type": "execute_result"
    }
   ],
   "source": [
    "task2.result()"
   ]
  },
  {
   "cell_type": "code",
   "execution_count": 10,
   "metadata": {},
   "outputs": [
    {
     "name": "stdout",
     "output_type": "stream",
     "text": [
      "CPU times: user 35 μs, sys: 5 μs, total: 40 μs\n",
      "Wall time: 42.9 μs\n"
     ]
    }
   ],
   "source": [
    "%%time \n",
    "\n",
    "task1 = asyncio.create_task(processa_chain({\"assunto\": \"gato robo\"}))\n",
    "task2 = asyncio.create_task(processa_chain({\"assunto\": \"baba robo\"}))\n",
    "task3 = asyncio.create_task(processa_chain({\"assunto\": \"psicologo de robo\"}))\n",
    "\n"
   ]
  }
 ],
 "metadata": {
  "kernelspec": {
   "display_name": ".venv",
   "language": "python",
   "name": "python3"
  },
  "language_info": {
   "codemirror_mode": {
    "name": "ipython",
    "version": 3
   },
   "file_extension": ".py",
   "mimetype": "text/x-python",
   "name": "python",
   "nbconvert_exporter": "python",
   "pygments_lexer": "ipython3",
   "version": "3.10.12"
  }
 },
 "nbformat": 4,
 "nbformat_minor": 2
}
