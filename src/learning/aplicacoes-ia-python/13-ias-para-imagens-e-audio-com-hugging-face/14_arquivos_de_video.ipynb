{
 "cells": [
  {
   "cell_type": "code",
   "execution_count": 1,
   "metadata": {},
   "outputs": [],
   "source": [
    "from pathlib import Path \n",
    "caminho = Path('videos')\n",
    "\n",
    "caminho.mkdir(parents=True, exist_ok=True)"
   ]
  },
  {
   "cell_type": "code",
   "execution_count": null,
   "metadata": {},
   "outputs": [],
   "source": [
    "import requests \n",
    "\n",
    "url = \"https://videos.pexels.com/video-files/15921892/15921892-uhd_3840_2160_50fps.mp4\"\n",
    "video_data =  requests.get(url, stream=False)\n",
    "\n",
    "caminho_video = caminho / 'video.mp4'\n",
    "\n",
    "with open(caminho_video, 'wb') as f:\n",
    "    for chunk in video_data.iter_content(chunk_size=1024**2):\n",
    "        f.write(chunk)\n",
    "        print('.', end='')\n",
    "        \n",
    "print('\\nFinalizado!')"
   ]
  },
  {
   "cell_type": "code",
   "execution_count": 3,
   "metadata": {},
   "outputs": [],
   "source": [
    "caminho_frames = caminho / 'frames'\n",
    "caminho_frames.mkdir(parents=True, exist_ok=True)"
   ]
  },
  {
   "cell_type": "code",
   "execution_count": 5,
   "metadata": {},
   "outputs": [],
   "source": [
    "caminho_video = caminho / 'video.mp4'\n"
   ]
  },
  {
   "cell_type": "code",
   "execution_count": 7,
   "metadata": {},
   "outputs": [
    {
     "name": "stdout",
     "output_type": "stream",
     "text": [
      "............................................................................................................................................................................................................................................................................................................................................................................................................................."
     ]
    },
    {
     "ename": "KeyboardInterrupt",
     "evalue": "",
     "output_type": "error",
     "traceback": [
      "\u001b[0;31m---------------------------------------------------------------------------\u001b[0m",
      "\u001b[0;31mKeyboardInterrupt\u001b[0m                         Traceback (most recent call last)",
      "Cell \u001b[0;32mIn[7], line 9\u001b[0m\n\u001b[1;32m      7\u001b[0m \u001b[38;5;28;01mwhile\u001b[39;00m sucesso:\n\u001b[1;32m      8\u001b[0m     nome_frame \u001b[38;5;241m=\u001b[39m \u001b[38;5;124mf\u001b[39m\u001b[38;5;124m\"\u001b[39m\u001b[38;5;124mframe\u001b[39m\u001b[38;5;132;01m{\u001b[39;00mcount\u001b[38;5;132;01m:\u001b[39;00m\u001b[38;5;124m03d\u001b[39m\u001b[38;5;132;01m}\u001b[39;00m\u001b[38;5;124m.jpg\u001b[39m\u001b[38;5;124m\"\u001b[39m\n\u001b[0;32m----> 9\u001b[0m     \u001b[43mcv2\u001b[49m\u001b[38;5;241;43m.\u001b[39;49m\u001b[43mimwrite\u001b[49m\u001b[43m(\u001b[49m\u001b[38;5;28;43mstr\u001b[39;49m\u001b[43m(\u001b[49m\u001b[43mcaminho_frames\u001b[49m\u001b[43m \u001b[49m\u001b[38;5;241;43m/\u001b[39;49m\u001b[43m \u001b[49m\u001b[43mnome_frame\u001b[49m\u001b[43m)\u001b[49m\u001b[43m,\u001b[49m\u001b[43m \u001b[49m\u001b[43mframe\u001b[49m\u001b[43m)\u001b[49m\n\u001b[1;32m     10\u001b[0m     \u001b[38;5;28mprint\u001b[39m(\u001b[38;5;124m'\u001b[39m\u001b[38;5;124m.\u001b[39m\u001b[38;5;124m'\u001b[39m, end\u001b[38;5;241m=\u001b[39m\u001b[38;5;124m'\u001b[39m\u001b[38;5;124m'\u001b[39m)\n\u001b[1;32m     11\u001b[0m     sucesso, frame \u001b[38;5;241m=\u001b[39m captura\u001b[38;5;241m.\u001b[39mread() \n",
      "\u001b[0;31mKeyboardInterrupt\u001b[0m: "
     ]
    }
   ],
   "source": [
    "import cv2\n",
    "\n",
    "captura = cv2.VideoCapture(str(caminho_video))\n",
    "sucesso, frame = captura.read() \n",
    "count = 0 \n",
    "\n",
    "while sucesso:\n",
    "    nome_frame = f\"frame{count:03d}.jpg\"\n",
    "    cv2.imwrite(str(caminho_frames / nome_frame), frame)\n",
    "    print('.', end='')\n",
    "    sucesso, frame = captura.read() \n",
    "    count+=1\n",
    "    \n",
    "print(\"\\Finalizado!\")"
   ]
  },
  {
   "cell_type": "code",
   "execution_count": 12,
   "metadata": {},
   "outputs": [
    {
     "data": {
      "text/plain": [
       "50"
      ]
     },
     "execution_count": 12,
     "metadata": {},
     "output_type": "execute_result"
    }
   ],
   "source": [
    "captura = cv2.VideoCapture(str(caminho_video))\n",
    "sucesso, frame = captura.read()\n",
    "fps = int(captura.get(cv2.CAP_PROP_FPS))\n",
    "fps"
   ]
  },
  {
   "cell_type": "code",
   "execution_count": 13,
   "metadata": {},
   "outputs": [
    {
     "name": "stdout",
     "output_type": "stream",
     "text": [
      "................\n",
      "Finalizado!\n"
     ]
    }
   ],
   "source": [
    "count = 0 \n",
    "while sucesso:\n",
    "    if count % fps == 0:\n",
    "        nome_frame = f\"frame{count:03d}.jpg\"\n",
    "        cv2.imwrite(str(caminho_frames / nome_frame), frame)\n",
    "        print('.', end='')\n",
    "    sucesso, frame = captura.read() \n",
    "    count +=1 \n",
    "    \n",
    "print('\\nFinalizado!')"
   ]
  }
 ],
 "metadata": {
  "kernelspec": {
   "display_name": ".venv",
   "language": "python",
   "name": "python3"
  },
  "language_info": {
   "codemirror_mode": {
    "name": "ipython",
    "version": 3
   },
   "file_extension": ".py",
   "mimetype": "text/x-python",
   "name": "python",
   "nbconvert_exporter": "python",
   "pygments_lexer": "ipython3",
   "version": "3.10.12"
  }
 },
 "nbformat": 4,
 "nbformat_minor": 2
}
