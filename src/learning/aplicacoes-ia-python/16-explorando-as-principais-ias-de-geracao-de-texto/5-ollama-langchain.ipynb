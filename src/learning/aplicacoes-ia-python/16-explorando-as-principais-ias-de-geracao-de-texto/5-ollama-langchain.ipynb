{
 "cells": [
  {
   "cell_type": "code",
   "execution_count": 2,
   "metadata": {},
   "outputs": [],
   "source": [
    "from langchain_community.chat_models import ChatOllama\n",
    "\n",
    "chat = ChatOllama(model=\"llama3.1\")\n",
    "\n",
    "res = chat.invoke(\"Olá\")"
   ]
  },
  {
   "cell_type": "code",
   "execution_count": 4,
   "metadata": {},
   "outputs": [
    {
     "data": {
      "text/plain": [
       "'Alguém está aí...'"
      ]
     },
     "execution_count": 4,
     "metadata": {},
     "output_type": "execute_result"
    }
   ],
   "source": [
    "res.content"
   ]
  },
  {
   "cell_type": "code",
   "execution_count": 6,
   "metadata": {},
   "outputs": [
    {
     "data": {
      "text/plain": [
       "AIMessage(content='Por que a computadora levou o psicólogo?\\n\\nPorque ela tinha um problema de \"hard\" e não queria se relacionar com os outros...', response_metadata={'model': 'llama3.1', 'created_at': '2024-08-07T17:55:42.139004251Z', 'message': {'role': 'assistant', 'content': ''}, 'done_reason': 'stop', 'done': True, 'total_duration': 6861047722, 'load_duration': 1170070, 'prompt_eval_count': 32, 'prompt_eval_duration': 1559667000, 'eval_count': 35, 'eval_duration': 5170950000}, id='run-8e742669-c6f5-4eb0-8302-bba8a3e9fdf9-0')"
      ]
     },
     "execution_count": 6,
     "metadata": {},
     "output_type": "execute_result"
    }
   ],
   "source": [
    "from langchain_core.prompts import ChatPromptTemplate\n",
    "\n",
    "messages = ChatPromptTemplate.from_messages([\n",
    "\t(\"system\", \"Você é um assistente engraçado.\"), \n",
    "\t(\"human\", \"Faça uma piada sobre: {algo}\")\n",
    "])\n",
    "\n",
    "chain = messages | chat \n",
    "\n",
    "res = chain.invoke({\"algo\": \"computação\"})\n",
    "res"
   ]
  },
  {
   "cell_type": "code",
   "execution_count": 7,
   "metadata": {},
   "outputs": [
    {
     "data": {
      "text/plain": [
       "'Por que a computadora levou o psicólogo?\\n\\nPorque ela tinha um problema de \"hard\" e não queria se relacionar com os outros...'"
      ]
     },
     "execution_count": 7,
     "metadata": {},
     "output_type": "execute_result"
    }
   ],
   "source": [
    "res.content"
   ]
  },
  {
   "cell_type": "code",
   "execution_count": 8,
   "metadata": {},
   "outputs": [
    {
     "name": "stdout",
     "output_type": "stream",
     "text": [
      "Por que o Node.js foi para a psicóloga?\n",
      "\n",
      "Porque ele sempre fica em um loop de pensamentos! Enquanto o Python disse: \"Nossa, eu sou assim desde o começo!\" \n",
      "\n",
      "(Sorry, não é muito engraçado... Mas o melhor é quando você faz as piadas por você!)"
     ]
    }
   ],
   "source": [
    "stream = chain.stream({\"algo\":\"node vs python\"})\n",
    "for chunk in stream:\n",
    "    print(chunk.content, end='')"
   ]
  }
 ],
 "metadata": {
  "kernelspec": {
   "display_name": ".venv",
   "language": "python",
   "name": "python3"
  },
  "language_info": {
   "codemirror_mode": {
    "name": "ipython",
    "version": 3
   },
   "file_extension": ".py",
   "mimetype": "text/x-python",
   "name": "python",
   "nbconvert_exporter": "python",
   "pygments_lexer": "ipython3",
   "version": "3.10.12"
  }
 },
 "nbformat": 4,
 "nbformat_minor": 2
}
