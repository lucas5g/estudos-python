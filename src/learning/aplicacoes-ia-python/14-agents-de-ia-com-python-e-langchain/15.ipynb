{
 "cells": [
  {
   "cell_type": "code",
   "execution_count": 2,
   "metadata": {},
   "outputs": [],
   "source": [
    "from langchain_experimental.tools import PythonAstREPLTool \n",
    "\n",
    "tools = [PythonAstREPLTool()]"
   ]
  },
  {
   "cell_type": "code",
   "execution_count": 4,
   "metadata": {},
   "outputs": [],
   "source": [
    "from langchain.agents import create_tool_calling_agent, AgentExecutor \n",
    "from langchain.prompts import ChatPromptTemplate \n",
    "from langchain_openai import ChatOpenAI \n",
    "\n",
    "system_msg = \"\"\"Você é um assistente amigável.\n",
    "Certifique-se de usar a ferramentas PythonAstREPLTool para auxiliar a responder as perguntas\"\"\"\n",
    "\n",
    "prompt = ChatPromptTemplate.from_messages([\n",
    "\t(\"system\", system_msg),\n",
    "\t(\"placeholder\", \"{chat_history}\"),\n",
    "\t(\"human\", \"{input}\"),\n",
    "\t(\"placeholder\", \"{agent_scratchpad}\")\n",
    "])\n",
    "\n",
    "chat = ChatOpenAI() \n",
    "agent = create_tool_calling_agent(chat, tools, prompt) \n",
    "agent_executor = AgentExecutor(agent=agent, tools=tools, verbose=True)"
   ]
  },
  {
   "cell_type": "code",
   "execution_count": 5,
   "metadata": {},
   "outputs": [
    {
     "name": "stdout",
     "output_type": "stream",
     "text": [
      "\n",
      "\n",
      "\u001b[1m> Entering new AgentExecutor chain...\u001b[0m\n",
      "\u001b[32;1m\u001b[1;3m\n",
      "Invoking: `python_repl_ast` with `{'query': 'def fibonacci(n):\\n    if n <= 1:\\n        return n\\n    else:\\n        return fibonacci(n-1) + fibonacci(n-2)\\n\\nfibonacci(9)'}`\n",
      "\n",
      "\n",
      "\u001b[0m\u001b[36;1m\u001b[1;3mNameError: name 'fibonacci' is not defined\u001b[0m\u001b[32;1m\u001b[1;3m\n",
      "Invoking: `python_repl_ast` with `{'query': 'def fibonacci(n):\\n    if n <= 1:\\n        return n\\n    else:\\n        return fibonacci(n-1) + fibonacci(n-2)\\n\\nfibonacci(9)'}`\n",
      "responded: Parece que houve um erro na definição da função fibonacci. Vou corrigir isso e tentar novamente.\n",
      "\n",
      "\u001b[0m\u001b[36;1m\u001b[1;3mNameError: name 'fibonacci' is not defined\u001b[0m\u001b[32;1m\u001b[1;3m\n",
      "Invoking: `python_repl_ast` with `{'query': 'a, b = 0, 1\\nfor _ in range(9):\\n    a, b = b, a + b\\na'}`\n",
      "responded: Parece que o erro persiste. Vou tentar uma abordagem alternativa para calcular o décimo valor da sequência Fibonacci.\n",
      "\n",
      "\u001b[0m\u001b[36;1m\u001b[1;3m34\u001b[0m\u001b[32;1m\u001b[1;3mO décimo valor da sequência Fibonacci é 34.\u001b[0m\n",
      "\n",
      "\u001b[1m> Finished chain.\u001b[0m\n"
     ]
    },
    {
     "data": {
      "text/plain": [
       "{'input': 'Qual é o décimo valor da sequência fibonacci?',\n",
       " 'output': 'O décimo valor da sequência Fibonacci é 34.'}"
      ]
     },
     "execution_count": 5,
     "metadata": {},
     "output_type": "execute_result"
    }
   ],
   "source": [
    "agent_executor.invoke({\"input\": \"Qual é o décimo valor da sequência fibonacci?\"})"
   ]
  },
  {
   "cell_type": "code",
   "execution_count": 6,
   "metadata": {},
   "outputs": [
    {
     "name": "stdout",
     "output_type": "stream",
     "text": [
      "\n",
      "\n",
      "\u001b[1m> Entering new AgentExecutor chain...\u001b[0m\n",
      "\u001b[32;1m\u001b[1;3m\n",
      "Invoking: `python_repl_ast` with `{'query': \"len('escola')\"}`\n",
      "\n",
      "\n",
      "\u001b[0m\u001b[36;1m\u001b[1;3m6\u001b[0m\u001b[32;1m\u001b[1;3mA palavra \"escola\" tem 6 letras.\u001b[0m\n",
      "\n",
      "\u001b[1m> Finished chain.\u001b[0m\n"
     ]
    },
    {
     "data": {
      "text/plain": [
       "{'input': 'Quantas letras tem a palavra escola?',\n",
       " 'output': 'A palavra \"escola\" tem 6 letras.'}"
      ]
     },
     "execution_count": 6,
     "metadata": {},
     "output_type": "execute_result"
    }
   ],
   "source": [
    "agent_executor.invoke({\"input\": \"Quantas letras tem a palavra escola?\"})"
   ]
  },
  {
   "cell_type": "code",
   "execution_count": 7,
   "metadata": {},
   "outputs": [],
   "source": [
    "from langchain.agents import create_react_agent"
   ]
  },
  {
   "cell_type": "code",
   "execution_count": 8,
   "metadata": {},
   "outputs": [
    {
     "data": {
      "text/plain": [
       "PromptTemplate(input_variables=['agent_scratchpad', 'input', 'tool_names', 'tools'], metadata={'lc_hub_owner': 'hwchase17', 'lc_hub_repo': 'react', 'lc_hub_commit_hash': 'd15fe3c426f1c4b3f37c9198853e4a86e20c425ca7f4752ec0c9b0e97ca7ea4d'}, template='Answer the following questions as best you can. You have access to the following tools:\\n\\n{tools}\\n\\nUse the following format:\\n\\nQuestion: the input question you must answer\\nThought: you should always think about what to do\\nAction: the action to take, should be one of [{tool_names}]\\nAction Input: the input to the action\\nObservation: the result of the action\\n... (this Thought/Action/Action Input/Observation can repeat N times)\\nThought: I now know the final answer\\nFinal Answer: the final answer to the original input question\\n\\nBegin!\\n\\nQuestion: {input}\\nThought:{agent_scratchpad}')"
      ]
     },
     "execution_count": 8,
     "metadata": {},
     "output_type": "execute_result"
    }
   ],
   "source": [
    "from langchain import hub \n",
    "prompt = hub.pull(\"hwchase17/react\")\n",
    "prompt"
   ]
  },
  {
   "cell_type": "code",
   "execution_count": 10,
   "metadata": {},
   "outputs": [
    {
     "name": "stdout",
     "output_type": "stream",
     "text": [
      "Answer the following questions as best you can. You have access to the following tools:\n",
      "\n",
      "{tools}\n",
      "\n",
      "Use the following format:\n",
      "\n",
      "Question: the input question you must answer\n",
      "Thought: you should always think about what to do\n",
      "Action: the action to take, should be one of [{tool_names}]\n",
      "Action Input: the input to the action\n",
      "Observation: the result of the action\n",
      "... (this Thought/Action/Action Input/Observation can repeat N times)\n",
      "Thought: I now know the final answer\n",
      "Final Answer: the final answer to the original input question\n",
      "\n",
      "Begin!\n",
      "\n",
      "Question: {input}\n",
      "Thought:{agent_scratchpad}\n"
     ]
    }
   ],
   "source": [
    "print(prompt.template)"
   ]
  },
  {
   "cell_type": "code",
   "execution_count": 11,
   "metadata": {},
   "outputs": [],
   "source": [
    "chat = ChatOpenAI()\n",
    "agent = create_react_agent(chat, tools, prompt)\n",
    "agent_executor = AgentExecutor(agent=agent, tools=tools, verbose=True)"
   ]
  },
  {
   "cell_type": "code",
   "execution_count": 13,
   "metadata": {},
   "outputs": [
    {
     "name": "stdout",
     "output_type": "stream",
     "text": [
      "\n",
      "\n",
      "\u001b[1m> Entering new AgentExecutor chain...\u001b[0m\n",
      "\u001b[32;1m\u001b[1;3mVamos usar Python para calcular a sequência Fibonacci.\n",
      "Action: python_repl_ast\n",
      "Action Input: fib = lambda n: reduce(lambda x, _: x+[x[-1]+x[-2]], range(n-2), [0, 1])\u001b[0m\u001b[36;1m\u001b[1;3m\u001b[0m\u001b[32;1m\u001b[1;3mAgora que temos a função lambda para calcular a sequência Fibonacci, podemos usá-la para encontrar o décimo valor.\n",
      "Action: python_repl_ast\n",
      "Action Input: fib(10)[-1]\u001b[0m\u001b[36;1m\u001b[1;3mNameError: name 'reduce' is not defined\u001b[0m\u001b[32;1m\u001b[1;3mParece que a função `reduce` não está definida, vamos corrigir isso importando o módulo `functools`.\n",
      "Action: python_repl_ast\n",
      "Action Input: import functools\u001b[0m\u001b[36;1m\u001b[1;3m\u001b[0m\u001b[32;1m\u001b[1;3mAgora que importamos o módulo `functools`, podemos tentar calcular o décimo valor da sequência Fibonacci novamente.\n",
      "Action: python_repl_ast\n",
      "Action Input: fib = lambda n: functools.reduce(lambda x, _: x+[x[-1]+x[-2]], range(n-2), [0, 1])\u001b[0m\u001b[36;1m\u001b[1;3m\u001b[0m\u001b[32;1m\u001b[1;3mAgora podemos calcular o décimo valor da sequência Fibonacci.\n",
      "Action: python_repl_ast\n",
      "Action Input: fib(10)[-1]\u001b[0m\u001b[36;1m\u001b[1;3mNameError: name 'functools' is not defined\u001b[0m\u001b[32;1m\u001b[1;3mParece que houve um erro no reconhecimento do módulo `functools`. Vamos importá-lo de uma maneira diferente.\n",
      "Action: python_repl_ast\n",
      "Action Input: from functools import reduce\u001b[0m\u001b[36;1m\u001b[1;3m\u001b[0m\u001b[32;1m\u001b[1;3mAgora podemos tentar calcular o décimo valor da sequência Fibonacci novamente.\n",
      "Action: python_repl_ast\n",
      "Action Input: fib = lambda n: reduce(lambda x, _: x+[x[-1]+x[-2]], range(n-2), [0, 1])\u001b[0m\u001b[36;1m\u001b[1;3m\u001b[0m\u001b[32;1m\u001b[1;3mAgora podemos calcular o décimo valor da sequência Fibonacci.\n",
      "Action: python_repl_ast\n",
      "Action Input: fib(10)[-1]\u001b[0m\u001b[36;1m\u001b[1;3mNameError: name 'reduce' is not defined\u001b[0m\u001b[32;1m\u001b[1;3mHouve um erro na importação do módulo `reduce`. Vamos corrigir isso e tentar novamente.\n",
      "Action: python_repl_ast\n",
      "Action Input: from functools import reduce\u001b[0m\u001b[36;1m\u001b[1;3m\u001b[0m\u001b[32;1m\u001b[1;3mAgora podemos calcular o décimo valor da sequência Fibonacci.\n",
      "Action: python_repl_ast\n",
      "Action Input: fib = lambda n: reduce(lambda x, _: x+[x[-1]+x[-2]], range(n-2), [0, 1])\u001b[0m\u001b[36;1m\u001b[1;3m\u001b[0m\u001b[32;1m\u001b[1;3mAgora podemos calcular o décimo valor da sequência Fibonacci.\n",
      "Action: python_repl_ast\n",
      "Action Input: fib(10)[-1]\u001b[0m\u001b[36;1m\u001b[1;3mNameError: name 'reduce' is not defined\u001b[0m\u001b[32;1m\u001b[1;3mPrecisamos usar a função `reduce` de forma correta. Vamos corrigir isso e tentar novamente.\n",
      "Action: python_repl_ast\n",
      "Action Input: from functools import reduce\u001b[0m\u001b[36;1m\u001b[1;3m\u001b[0m\u001b[32;1m\u001b[1;3mAgora podemos calcular o décimo valor da sequência Fibonacci de forma correta.\n",
      "Action: python_repl_ast\n",
      "Action Input: fib = lambda n: reduce(lambda x, _: x+[x[-1]+x[-2]], range(n-2), [0, 1])\u001b[0m\u001b[36;1m\u001b[1;3m\u001b[0m\u001b[32;1m\u001b[1;3mAgora podemos calcular o décimo valor da sequência Fibonacci.\n",
      "Action: python_repl_ast\n",
      "Action Input: fib(10)[-1]\u001b[0m\u001b[36;1m\u001b[1;3mNameError: name 'reduce' is not defined\u001b[0m\u001b[32;1m\u001b[1;3mA abordagem atual não está funcionando como esperado. Vamos tentar uma abordagem diferente.\n",
      "\n",
      "Thought: Precisamos corrigir a função lambda para calcular a sequência Fibonacci de forma correta.\n",
      "Action: python_repl_ast\n",
      "Action Input: def fib(n):\n",
      "    a, b = 0, 1\n",
      "    for _ in range(n-1):\n",
      "        a, b = b, a + b\n",
      "    return a\u001b[0m\u001b[36;1m\u001b[1;3m\u001b[0m\u001b[32;1m\u001b[1;3m\u001b[0m\n",
      "\n",
      "\u001b[1m> Finished chain.\u001b[0m\n"
     ]
    },
    {
     "data": {
      "text/plain": [
       "{'input': 'Qual é o décimo valor da sequência fibonacci?',\n",
       " 'output': 'Agent stopped due to iteration limit or time limit.'}"
      ]
     },
     "execution_count": 13,
     "metadata": {},
     "output_type": "execute_result"
    }
   ],
   "source": [
    "agent_executor.invoke({\"input\": \"Qual é o décimo valor da sequência fibonacci?\"})"
   ]
  },
  {
   "cell_type": "code",
   "execution_count": 14,
   "metadata": {},
   "outputs": [],
   "source": [
    "from langchain.prompts import PromptTemplate\n",
    "\n",
    "prompt = PromptTemplate.from_template(\n",
    "'''Answer the following questions as best you can. You have access to the following tools:\n",
    "\n",
    "{tools}\n",
    "\n",
    "Use the following format:\n",
    "\n",
    "Question: the input question you must answer\n",
    "Thought: you should always think about what to do\n",
    "Action: the action to take, should be one of {tool_names}\n",
    "Action Input: the input to the action\n",
    "Observation: the result of the action\n",
    "... (this Thought/Action/Action Input/Observation can repeat N times)\n",
    "Thought: I now know the final answer\n",
    "Final Answer: the final answer to the original input question\n",
    "\n",
    "Begin!\n",
    "\n",
    "Question: {input}\n",
    "Thought:{agent_scratchpad}'''\n",
    ")\n",
    "\n",
    "chat = ChatOpenAI()\n",
    "agent = create_react_agent(chat, tools, prompt)\n",
    "agent_executor = AgentExecutor(agent=agent, tools=tools, verbose=True)"
   ]
  },
  {
   "cell_type": "code",
   "execution_count": 15,
   "metadata": {},
   "outputs": [
    {
     "name": "stdout",
     "output_type": "stream",
     "text": [
      "\n",
      "\n",
      "\u001b[1m> Entering new AgentExecutor chain...\u001b[0m\n",
      "\u001b[32;1m\u001b[1;3mPreciso gerar a sequência fibonacci e identificar o décimo valor.\n",
      "Action: python_repl_ast\n",
      "Action Input: fib = [0, 1]\u001b[0m\u001b[36;1m\u001b[1;3m\u001b[0m\u001b[32;1m\u001b[1;3mA sequência fibonacci começa com 0 e 1.\n",
      "Action: python_repl_ast\n",
      "Action Input: while len(fib) < 10:\u001b[0m\u001b[36;1m\u001b[1;3mIndentationError: expected an indented block after 'while' statement on line 1 (<unknown>, line 1)\u001b[0m\u001b[32;1m\u001b[1;3mPreciso corrigir a indentação do meu código.\n",
      "Action: python_repl_ast\n",
      "Action Input: fib = [0, 1]\n",
      "while len(fib) < 10:\n",
      "    fib.append(fib[-1] + fib[-2])\n",
      "fib\u001b[0m\u001b[36;1m\u001b[1;3m[0, 1, 1, 2, 3, 5, 8, 13, 21, 34]\u001b[0m\u001b[32;1m\u001b[1;3mA décima posição na sequência fibonacci é 34.\n",
      "Final Answer: 34\u001b[0m\n",
      "\n",
      "\u001b[1m> Finished chain.\u001b[0m\n"
     ]
    },
    {
     "data": {
      "text/plain": [
       "{'input': 'Qual é o décimo valor da sequência fibonacci?', 'output': '34'}"
      ]
     },
     "execution_count": 15,
     "metadata": {},
     "output_type": "execute_result"
    }
   ],
   "source": [
    "agent_executor.invoke({'input': 'Qual é o décimo valor da sequência fibonacci?'})"
   ]
  }
 ],
 "metadata": {
  "kernelspec": {
   "display_name": ".venv",
   "language": "python",
   "name": "python3"
  },
  "language_info": {
   "codemirror_mode": {
    "name": "ipython",
    "version": 3
   },
   "file_extension": ".py",
   "mimetype": "text/x-python",
   "name": "python",
   "nbconvert_exporter": "python",
   "pygments_lexer": "ipython3",
   "version": "3.10.12"
  }
 },
 "nbformat": 4,
 "nbformat_minor": 2
}
