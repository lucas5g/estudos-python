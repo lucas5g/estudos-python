{
 "cells": [
  {
   "cell_type": "code",
   "execution_count": 1,
   "metadata": {},
   "outputs": [],
   "source": [
    "import openai\n",
    "client = openai.Client()"
   ]
  },
  {
   "cell_type": "code",
   "execution_count": 2,
   "metadata": {},
   "outputs": [
    {
     "name": "stdout",
     "output_type": "stream",
     "text": [
      "Fruta redonda e saborosa.\n"
     ]
    }
   ],
   "source": [
    "mensagens = [{\"role\": \"user\", \"content\": \"O que é uma maçã em até 5 palavras?\"}]\n",
    "resposta = client.chat.completions.create(\n",
    "    messages=mensagens,\n",
    "    model=\"gpt-3.5-turbo-0125\",\n",
    "    max_tokens=1000,\n",
    "    temperature=0,\n",
    ")\n",
    "mensagem_resp = resposta.choices[0].message\n",
    "print(mensagem_resp.content)"
   ]
  },
  {
   "cell_type": "code",
   "execution_count": 3,
   "metadata": {},
   "outputs": [
    {
     "name": "stdout",
     "output_type": "stream",
     "text": [
      "Vermelha ou verde.\n"
     ]
    }
   ],
   "source": [
    "mensagens += [mensagem_resp.model_dump(exclude_none=True)]\n",
    "mensagens += [{\"role\": \"user\", \"content\": \"E qual a sua cor?\"}]\n",
    "\n",
    "resposta = client.chat.completions.create(\n",
    "    messages=mensagens,\n",
    "    model=\"gpt-3.5-turbo-0125\",\n",
    "    max_tokens=1000,\n",
    "    temperature=0,\n",
    ")\n",
    "mensagem_resp = resposta.choices[0].message\n",
    "print(mensagem_resp.content)"
   ]
  },
  {
   "cell_type": "code",
   "execution_count": 4,
   "metadata": {},
   "outputs": [
    {
     "name": "stdout",
     "output_type": "stream",
     "text": [
      "Negativo\n"
     ]
    }
   ],
   "source": [
    "mensagens = [\n",
    "    {\"role\": \"system\", \"content\": \"Você avalia comentários em positivo ou negativo.\"},\n",
    "    {\"role\": \"user\", \"content\": \"Isso é incrível!\"},\n",
    "    {\"role\": \"assistant\", \"content\": \"Positivo\"},\n",
    "    {\"role\": \"user\", \"content\": \"Isso é ruim!\"},\n",
    "    {\"role\": \"assistant\", \"content\": \"Negativo\"},\n",
    "    {\"role\": \"user\", \"content\": \"Que programa horrível!\"},\n",
    "]\n",
    "resposta = client.chat.completions.create(\n",
    "    messages=mensagens,\n",
    "    model=\"gpt-3.5-turbo-0125\",\n",
    "    max_tokens=1000,\n",
    "    temperature=0,\n",
    ")\n",
    "mensagem_resp = resposta.choices[0].message\n",
    "print(mensagem_resp.content)"
   ]
  },
  {
   "cell_type": "code",
   "execution_count": null,
   "metadata": {},
   "outputs": [],
   "source": []
  }
 ],
 "metadata": {
  "kernelspec": {
   "display_name": ".venv",
   "language": "python",
   "name": "python3"
  },
  "language_info": {
   "codemirror_mode": {
    "name": "ipython",
    "version": 3
   },
   "file_extension": ".py",
   "mimetype": "text/x-python",
   "name": "python",
   "nbconvert_exporter": "python",
   "pygments_lexer": "ipython3",
   "version": "3.10.12"
  }
 },
 "nbformat": 4,
 "nbformat_minor": 2
}
