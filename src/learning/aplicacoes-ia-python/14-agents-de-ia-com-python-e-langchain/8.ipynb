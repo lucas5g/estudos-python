{
 "cells": [
  {
   "cell_type": "code",
   "execution_count": 1,
   "metadata": {},
   "outputs": [],
   "source": [
    "texto = '''A Apple foi fundada em 1 de abril de 1976 por Steve Wozniak, Steve Jobs e Ronald Wayne \n",
    "com o nome de Apple Computers, na Califórnia. O nome foi escolhido por Jobs após a visita do pomar \n",
    "de maçãs da fazenda de Robert Friedland, também pelo fato do nome soar bem e ficar antes da Atari \n",
    "nas listas telefônicas.\n",
    "\n",
    "O primeiro protótipo da empresa foi o Apple I que foi demonstrado na Homebrew Computer Club em 1975, \n",
    "as vendas começaram em julho de 1976 com o preço de US$ 666,66, aproximadamente 200 unidades foram \n",
    "vendidas,[21] em 1977 a empresa conseguiu o aporte de Mike Markkula e um empréstimo do Bank of America.'''"
   ]
  },
  {
   "cell_type": "code",
   "execution_count": 2,
   "metadata": {},
   "outputs": [
    {
     "data": {
      "text/plain": [
       "{'name': 'ListaAcontecimentos',\n",
       " 'description': 'Acontecimentos para extração',\n",
       " 'parameters': {'type': 'object',\n",
       "  'properties': {'acontecimentos': {'description': 'Lista de acontecimentos presentes no texto informado',\n",
       "    'type': 'array',\n",
       "    'items': {'description': 'Informação sobre um acontecimento',\n",
       "     'type': 'object',\n",
       "     'properties': {'data': {'description': 'Data do acontecimento no formato dd/mm/aaaa',\n",
       "       'type': 'string'},\n",
       "      'acontecimento': {'description': 'Acontecimento extraído do texto',\n",
       "       'type': 'string'}},\n",
       "     'required': ['data', 'acontecimento']}}},\n",
       "  'required': ['acontecimentos']}}"
      ]
     },
     "execution_count": 2,
     "metadata": {},
     "output_type": "execute_result"
    }
   ],
   "source": [
    "from langchain.pydantic_v1 import BaseModel, Field\n",
    "from typing import List \n",
    "from langchain_core.utils.function_calling import convert_to_openai_function\n",
    "\n",
    "class Acontecimento(BaseModel):\n",
    "    \"\"\"Informação sobre um acontecimento\"\"\"\n",
    "    data:str = Field(description=\"Data do acontecimento no formato dd/mm/aaaa\")\n",
    "    acontecimento:str = Field(description='Acontecimento extraído do texto')\n",
    "    \n",
    "class ListaAcontecimentos(BaseModel):\n",
    "    \"\"\"Acontecimentos para extração\"\"\"\n",
    "    acontecimentos: List[Acontecimento] = Field(description=\"Lista de acontecimentos presentes no texto informado\")\n",
    "    \n",
    "tool_acontecimentos = convert_to_openai_function(ListaAcontecimentos)\n",
    "tool_acontecimentos"
   ]
  },
  {
   "cell_type": "code",
   "execution_count": 3,
   "metadata": {},
   "outputs": [],
   "source": [
    "from langchain.prompts import ChatPromptTemplate \n",
    "from langchain_openai import ChatOpenAI \n",
    "\n",
    "prompt = ChatPromptTemplate.from_messages([\n",
    "\t(\"system\", \"Extraia as frases de acontecimentos. Elas devem ser extraídas integralmente\"),\n",
    "\t(\"user\", \"{input}\")\n",
    "])\n",
    "\n",
    "chat = ChatOpenAI() \n",
    "\n",
    "chain = (prompt \n",
    "         | chat.bind(functions=[tool_acontecimentos], function_call={\"name\": \"ListaAcontecimentos\"}))"
   ]
  },
  {
   "cell_type": "code",
   "execution_count": 4,
   "metadata": {},
   "outputs": [
    {
     "data": {
      "text/plain": [
       "AIMessage(content='', additional_kwargs={'function_call': {'arguments': '{\"acontecimentos\":[{\"data\":\"1 de abril de 1976\",\"acontecimento\":\"A Apple foi fundada por Steve Wozniak, Steve Jobs e Ronald Wayne na Califórnia com o nome de Apple Computers.\"},{\"data\":\"1975\",\"acontecimento\":\"Demonstração do primeiro protótipo da empresa, o Apple I, na Homebrew Computer Club.\"},{\"data\":\"julho de 1976\",\"acontecimento\":\"Início das vendas do Apple I por US$ 666,66, com aproximadamente 200 unidades vendidas.\"},{\"data\":\"1977\",\"acontecimento\":\"A empresa recebeu o aporte de Mike Markkula e um empréstimo do Bank of America.\"}]}', 'name': 'ListaAcontecimentos'}}, response_metadata={'token_usage': {'completion_tokens': 153, 'prompt_tokens': 325, 'total_tokens': 478}, 'model_name': 'gpt-3.5-turbo-0125', 'system_fingerprint': None, 'finish_reason': 'stop', 'logprobs': None}, id='run-28255589-004e-4bbb-aa3c-a48dfd187cc5-0', usage_metadata={'input_tokens': 325, 'output_tokens': 153, 'total_tokens': 478})"
      ]
     },
     "execution_count": 4,
     "metadata": {},
     "output_type": "execute_result"
    }
   ],
   "source": [
    "chain.invoke({\"input\": texto})"
   ]
  },
  {
   "cell_type": "code",
   "execution_count": 5,
   "metadata": {},
   "outputs": [
    {
     "data": {
      "text/plain": [
       "{'acontecimentos': [{'data': '1 de abril de 1976',\n",
       "   'acontecimento': 'A Apple foi fundada por Steve Wozniak, Steve Jobs e Ronald Wayne na Califórnia com o nome de Apple Computers.'},\n",
       "  {'data': '1975',\n",
       "   'acontecimento': 'O primeiro protótipo da empresa, o Apple I, foi demonstrado na Homebrew Computer Club.'},\n",
       "  {'data': 'julho de 1976',\n",
       "   'acontecimento': 'As vendas do Apple I começaram com o preço de US$ 666,66.'},\n",
       "  {'data': '1977',\n",
       "   'acontecimento': 'A empresa conseguiu o aporte de Mike Markkula e um empréstimo do Bank of America.'}]}"
      ]
     },
     "execution_count": 5,
     "metadata": {},
     "output_type": "execute_result"
    }
   ],
   "source": [
    "from langchain.output_parsers.openai_functions import JsonOutputFunctionsParser\n",
    "\n",
    "chain = (\n",
    "    prompt\n",
    "    | chat.bind(\n",
    "        functions=[tool_acontecimentos], function_call={\"name\": \"ListaAcontecimentos\"}\n",
    "    )\n",
    "    | JsonOutputFunctionsParser()\n",
    ")\n",
    "\n",
    "chain.invoke({\"input\":texto})"
   ]
  },
  {
   "cell_type": "code",
   "execution_count": 7,
   "metadata": {},
   "outputs": [
    {
     "data": {
      "text/plain": [
       "[{'data': '1 de abril de 1976',\n",
       "  'acontecimento': 'A Apple foi fundada por Steve Wozniak, Steve Jobs e Ronald Wayne na Califórnia, com o nome de Apple Computers.'},\n",
       " {'data': '1975',\n",
       "  'acontecimento': 'Demonstração do primeiro protótipo da empresa, o Apple I, na Homebrew Computer Club.'},\n",
       " {'data': 'julho de 1976',\n",
       "  'acontecimento': 'Início das vendas do Apple I com o preço de US$ 666,66, aproximadamente 200 unidades vendidas.'},\n",
       " {'data': '1977',\n",
       "  'acontecimento': 'A empresa recebeu o aporte de Mike Markkula e um empréstimo do Bank of America.'}]"
      ]
     },
     "execution_count": 7,
     "metadata": {},
     "output_type": "execute_result"
    }
   ],
   "source": [
    "from langchain.output_parsers.openai_functions import JsonKeyOutputFunctionsParser\n",
    "\n",
    "chain = (\n",
    "    prompt\n",
    "    | chat.bind(\n",
    "        functions=[tool_acontecimentos], function_call={\"name\": \"ListaAcontecimentos\"}\n",
    "    )\n",
    "    | JsonKeyOutputFunctionsParser(key_name=\"acontecimentos\")\n",
    ")\n",
    "\n",
    "chain.invoke({\"input\":texto})"
   ]
  },
  {
   "cell_type": "code",
   "execution_count": 8,
   "metadata": {},
   "outputs": [
    {
     "data": {
      "text/plain": [
       "[Document(metadata={'source': 'https://hub.asimov.academy/blog/', 'title': 'Blog | Asimov Academy', 'language': 'pt-BR'}, page_content='\\n\\n\\n\\n\\n\\n\\n\\n\\n\\n\\nBlog | Asimov Academy\\n\\n\\n\\n\\n\\n\\n\\n\\n\\n\\n\\n\\n\\n\\n\\n\\n\\n\\n\\n\\n\\n\\n\\n\\n\\n\\n\\n\\n\\n\\n\\n\\n\\n\\n\\n\\n\\n\\n\\n\\n\\n\\n\\n\\n\\n\\n\\n\\n\\n\\n\\n\\n\\n\\n\\n\\n\\n\\n\\n\\n\\n\\n\\n\\n\\n\\n\\n\\nEntrar\\nCadastrar\\n\\n\\n\\n\\n\\nBlog\\n\\n\\nArtigos\\n\\n\\nTutoriais\\n\\n\\n\\n\\nPesquisar na plataforma\\n\\n\\n\\n\\n\\n\\n\\nBlog da Asimov\\nConfira as últimas notícias do mundo de tecnologia\\n\\n\\n\\n\\n\\n77 posts\\n\\n\\n\\nPesquisar\\n\\n\\n\\n\\nCategoria\\n\\nTodas as categorias\\nAnálise de Dados\\nAplicações IA\\nAutomações\\nCiência de Dados\\nDashboards\\nProgramação Python\\nTrading Quantitativo\\nVisão Computacional\\nVisualização de Dados\\nWeb\\nWeb Apps\\n\\n\\n\\n\\n\\n          Mais filtros\\n        \\n\\n\\nCategoria\\n\\nTodas as categorias\\nAnálise de Dados\\nAplicações IA\\nAutomações\\nCiência de Dados\\nDashboards\\nProgramação Python\\nTrading Quantitativo\\nVisão Computacional\\nVisualização de Dados\\nWeb\\nWeb Apps\\n\\n\\n\\nOrdernar por:\\n\\n\\n\\n                  Mais relevante\\n                \\n\\n\\n\\n\\n                  Mais novo\\n                \\n\\n\\n\\n\\n                  Mais antigo\\n                \\n\\n\\n\\n\\n\\nStatus\\n\\n\\n\\n                  Todos\\n                \\n\\n\\n\\n\\n                  Lidos\\n                \\n\\n\\n\\n\\n                  Não lidos\\n                \\n\\n\\n\\n\\n\\nLimpar filtros\\n\\n\\n              Filtrar\\n            \\n\\n\\n\\n\\n\\n\\n\\n\\n \\n\\nA economia da inteligência artificial: como funciona o mercado da IA?\\n\\n\\nRenata Lopes • 5 dias atrás\\n\\n\\n\\n\\n\\n\\n \\n\\nHistória da IA: de Alan Turing aos dias atuais\\n\\n\\nRenata Lopes • 6 dias atrás\\n\\n\\n\\n\\n\\n\\n \\n\\nProcessamento de Linguagem Natural: definição e exemplos de PLN\\n\\n\\nRenata Lopes • 13 dias atrás\\n\\n\\n\\n\\n\\n\\n \\n\\nO que é visão computacional e para que serve: guia para iniciantes\\n\\n\\nRenata Lopes • 17 dias atrás\\n\\n\\n\\n\\n\\n\\n \\n\\nO que é IA generativa? Definição, exemplos e aplicações práticas\\n\\n\\nRenata Lopes • 24 dias atrás\\n\\n\\n\\n\\n\\n\\n \\n\\nLLM: o que é e como funciona um grande modelo de linguagem\\n\\n\\nRenata Lopes • 25 dias atrás\\n\\n\\n\\n\\n\\n\\n \\n\\nEngenheiro de dados, cientista de dados e analista de dados: qual é a diferença?\\n\\n\\nRenata Lopes • 1 mês atrás\\n\\n\\n\\n\\n\\n\\n \\n\\nAnálise de dados: o que é e como ingressar na área\\n\\n\\nRenata Lopes • 1 mês atrás\\n\\n\\n\\n \\nCarregar mais\\n\\n \\n\\n\\n\\n\\n\\n\\n\\n\\n\\n\\n\\n\\n\\n\\n\\n\\nInscreva-se na nossa newsletter\\n\\n\\nInscrever-se\\n\\n\\n\\n\\n\\n\\n\\n\\n\\n\\n\\n\\n\\n\\n\\n\\n\\n\\n\\n\\n\\n\\n\\n\\n\\n\\n\\n\\n\\n\\n\\n\\n\\n\\n\\n\\n\\n \\n\\n\\nInstitucional\\nHome\\nSobre nós\\nManifesto Asimov\\nTermos de uso\\nPolítica de privacidade\\n \\n\\nConteúdos\\nBlog\\nTutoriais\\nNewsletter\\n \\n\\nPlataforma\\nCursos\\nTrilhas\\nProjetos\\nCompilador de Python Online\\n \\n\\nFale conosco\\nE-mail\\nWhatsapp\\nPerguntas frequentes\\n \\n\\nMatricule-se\\nPlanos\\nPara empresas\\n \\n\\n\\n\\n\\nTodos os direitos reservados. Política de Privacidade  - Termos de Uso\\nCNPJ: 41.075.192/0001-82\\n\\n\\n\\n\\n\\n\\n\\n\\n20% de desconto em todos os planos da Asimov \\nAcaba em...\\n\\n\\n\\n\\n00\\nDias\\n\\n\\n00\\nHoras\\n\\n\\n00\\nMinutos\\n\\n\\n00\\nSegundos\\n\\n\\nGaranta acesso a todos cursos, trilhas e projetos com desconto exclusivo.\\nMatricule-se\\n\\n\\n\\n\\n\\n\\nEste site utiliza cookies para melhorar sua experiência. Ao continuar navegando, você concorda com o uso de cookies.\\n\\nAceitar\\nSaiba mais\\n\\n\\n\\n\\n\\n\\n\\n\\n\\n\\n\\n\\n\\n\\n')]"
      ]
     },
     "execution_count": 8,
     "metadata": {},
     "output_type": "execute_result"
    }
   ],
   "source": [
    "from langchain_community.document_loaders.web_base import WebBaseLoader \n",
    "\n",
    "loader = WebBaseLoader('https://hub.asimov.academy/blog/')\n",
    "page = loader.load()\n",
    "page"
   ]
  },
  {
   "cell_type": "code",
   "execution_count": 9,
   "metadata": {},
   "outputs": [
    {
     "data": {
      "text/plain": [
       "{'name': 'BlogSite',\n",
       " 'description': 'Lista de blog posts de um site',\n",
       " 'parameters': {'type': 'object',\n",
       "  'properties': {'posts': {'description': 'Lista de posts de blog do site',\n",
       "    'type': 'array',\n",
       "    'items': {'description': 'Informações sobre um post de blog',\n",
       "     'type': 'object',\n",
       "     'properties': {'titulo': {'description': 'O título do post de blog',\n",
       "       'type': 'string'},\n",
       "      'autor': {'description': 'O autor do post de blog', 'type': 'string'},\n",
       "      'data': {'description': 'A data de publicação do post de blog',\n",
       "       'type': 'string'}},\n",
       "     'required': ['titulo', 'autor', 'data']}}},\n",
       "  'required': ['posts']}}"
      ]
     },
     "execution_count": 9,
     "metadata": {},
     "output_type": "execute_result"
    }
   ],
   "source": [
    "from langchain.pydantic_v1 import BaseModel, Field \n",
    "from typing import List \n",
    "from langchain_core.utils.function_calling import convert_to_openai_function\n",
    "\n",
    "class BlogPost(BaseModel):\n",
    "    \"\"\"Informações sobre um post de blog\"\"\"\n",
    "    titulo:str = Field(description=\"O título do post de blog\")\n",
    "    autor:str = Field(description=\"O autor do post de blog\")\n",
    "    data:str = Field(description=\"A data de publicação do post de blog\")\n",
    "    \n",
    "class BlogSite(BaseModel):\n",
    "    \"\"\"Lista de blog posts de um site\"\"\"\n",
    "    posts:List[BlogPost] = Field(description=\"Lista de posts de blog do site\")\n",
    "    \n",
    "tool_blog = convert_to_openai_function(BlogSite)\n",
    "tool_blog"
   ]
  },
  {
   "cell_type": "code",
   "execution_count": 11,
   "metadata": {},
   "outputs": [],
   "source": [
    "from langchain.output_parsers.openai_functions import JsonKeyOutputFunctionsParser\n",
    "from langchain.prompts import ChatPromptTemplate\n",
    "from langchain_openai import ChatOpenAI \n",
    "\n",
    "prompt = ChatPromptTemplate.from_messages([\n",
    "\t(\"system\", \"Extraia da página todos os posts de blog com autor e data de publicação\"),\n",
    "\t(\"user\", \"{input}\")\n",
    "])\n",
    "\n",
    "chat = ChatOpenAI()\n",
    "\n",
    "chain = prompt | chat.bind(functions=[tool_blog], function_call={'name':\"BlogSite\"}) | JsonKeyOutputFunctionsParser(key_name=\"posts\")"
   ]
  },
  {
   "cell_type": "code",
   "execution_count": 12,
   "metadata": {},
   "outputs": [
    {
     "data": {
      "text/plain": [
       "[{'titulo': 'A economia da inteligência artificial: como funciona o mercado da IA?',\n",
       "  'autor': 'Renata Lopes',\n",
       "  'data': '5 dias atrás'},\n",
       " {'titulo': 'História da IA: de Alan Turing aos dias atuais',\n",
       "  'autor': 'Renata Lopes',\n",
       "  'data': '6 dias atrás'},\n",
       " {'titulo': 'Processamento de Linguagem Natural: definição e exemplos de PLN',\n",
       "  'autor': 'Renata Lopes',\n",
       "  'data': '13 dias atrás'},\n",
       " {'titulo': 'O que é visão computacional e para que serve: guia para iniciantes',\n",
       "  'autor': 'Renata Lopes',\n",
       "  'data': '17 dias atrás'},\n",
       " {'titulo': 'O que é IA generativa? Definição, exemplos e aplicações práticas',\n",
       "  'autor': 'Renata Lopes',\n",
       "  'data': '24 dias atrás'},\n",
       " {'titulo': 'LLM: o que é e como funciona um grande modelo de linguagem',\n",
       "  'autor': 'Renata Lopes',\n",
       "  'data': '25 dias atrás'},\n",
       " {'titulo': 'Engenheiro de dados, cientista de dados e analista de dados: qual é a diferença?',\n",
       "  'autor': 'Renata Lopes',\n",
       "  'data': '1 mês atrás'},\n",
       " {'titulo': 'Análise de dados: o que é e como ingressar na área',\n",
       "  'autor': 'Renata Lopes',\n",
       "  'data': '1 mês atrás'}]"
      ]
     },
     "execution_count": 12,
     "metadata": {},
     "output_type": "execute_result"
    }
   ],
   "source": [
    "chain.invoke({\"input\":page})"
   ]
  }
 ],
 "metadata": {
  "kernelspec": {
   "display_name": ".venv",
   "language": "python",
   "name": "python3"
  },
  "language_info": {
   "codemirror_mode": {
    "name": "ipython",
    "version": 3
   },
   "file_extension": ".py",
   "mimetype": "text/x-python",
   "name": "python",
   "nbconvert_exporter": "python",
   "pygments_lexer": "ipython3",
   "version": "3.10.12"
  }
 },
 "nbformat": 4,
 "nbformat_minor": 2
}
