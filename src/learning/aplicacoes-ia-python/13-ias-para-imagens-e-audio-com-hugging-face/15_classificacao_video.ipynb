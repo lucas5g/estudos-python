{
 "cells": [
  {
   "cell_type": "code",
   "execution_count": 1,
   "metadata": {},
   "outputs": [
    {
     "name": "stderr",
     "output_type": "stream",
     "text": [
      "/home/lucas/projects/estudos-python/.venv/lib/python3.10/site-packages/tqdm/auto.py:21: TqdmWarning: IProgress not found. Please update jupyter and ipywidgets. See https://ipywidgets.readthedocs.io/en/stable/user_install.html\n",
      "  from .autonotebook import tqdm as notebook_tqdm\n",
      "2024-08-06 12:10:47.119769: I external/local_xla/xla/tsl/cuda/cudart_stub.cc:32] Could not find cuda drivers on your machine, GPU will not be used.\n",
      "2024-08-06 12:10:47.128077: E external/local_xla/xla/stream_executor/cuda/cuda_fft.cc:485] Unable to register cuFFT factory: Attempting to register factory for plugin cuFFT when one has already been registered\n",
      "2024-08-06 12:10:47.144024: E external/local_xla/xla/stream_executor/cuda/cuda_dnn.cc:8454] Unable to register cuDNN factory: Attempting to register factory for plugin cuDNN when one has already been registered\n",
      "2024-08-06 12:10:47.148716: E external/local_xla/xla/stream_executor/cuda/cuda_blas.cc:1452] Unable to register cuBLAS factory: Attempting to register factory for plugin cuBLAS when one has already been registered\n",
      "2024-08-06 12:10:47.160820: I tensorflow/core/platform/cpu_feature_guard.cc:210] This TensorFlow binary is optimized to use available CPU instructions in performance-critical operations.\n",
      "To enable the following instructions: AVX2 FMA, in other operations, rebuild TensorFlow with the appropriate compiler flags.\n",
      "2024-08-06 12:10:47.930393: W tensorflow/compiler/tf2tensorrt/utils/py_utils.cc:38] TF-TRT Warning: Could not find TensorRT\n"
     ]
    }
   ],
   "source": [
    "from transformers import pipeline \n",
    "\n",
    "modelo = \"facebook/timesformer-base-finetuned-k600\"\n",
    "classificador_video = pipeline(\"video-classification\", model=modelo)"
   ]
  },
  {
   "cell_type": "code",
   "execution_count": 5,
   "metadata": {},
   "outputs": [
    {
     "name": "stderr",
     "output_type": "stream",
     "text": [
      "Downloading readme: 100%|██████████| 4.90k/4.90k [00:00<00:00, 24.1MB/s]\n"
     ]
    }
   ],
   "source": [
    "from datasets import load_dataset \n",
    "dados = load_dataset(\"shinonomelab/cleanvid-15m_map\", streaming=True, split=\"train\")\n"
   ]
  },
  {
   "cell_type": "code",
   "execution_count": 7,
   "metadata": {},
   "outputs": [
    {
     "name": "stdout",
     "output_type": "stream",
     "text": [
      "{'id': 1095327279, 'description': \"Close-up of a male welder in protective clothing welding metal in a blacksmith's workshop. The process of making a metal fence in a forge.\", 'duration': 7.96, 'aspectratio': '16:9', 'videourl': 'https://www.shutterstock.com/shutterstock/videos/1095327279/preview/stock-footage-close-up-of-a-male-welder-in-protective-clothing-welding-metal-in-a-blacksmith-s-workshop-the.mp4', 'author': '{\"accountsId\": 162697858, \"contributorId\": 162697858, \"bio\": \"\\\\u0421\\\\u0432\\\\u0430\\\\u0434\\\\u0435\\\\u0431\\\\u043d\\\\u044b\\\\u0439 \\\\u0438 \\\\u0441\\\\u0435\\\\u043c\\\\u0435\\\\u0439\\\\u043d\\\\u044b\\\\u0439 \\\\u0432\\\\u0438\\\\u0434\\\\u0435\\\\u043e\\\\u0433\\\\u0440\\\\u0430\\\\u0444. \\\\u0417\\\\u0430\\\\u043d\\\\u0438\\\\u043c\\\\u0430\\\\u044e\\\\u0441\\\\u044c \\\\u0432\\\\u0438\\\\u0434\\\\u0435\\\\u043e\\\\u0441\\\\u044a\\\\u0435\\\\u043c\\\\u043a\\\\u043e\\\\u0439 \\\\u0441 2007 \\\\u0433\\\\u043e\\\\u0434\\\\u0430.\", \"location\": \"ua\", \"website\": \"-\", \"contributorTypeList\": [\"videographer\"], \"equipmentList\": [\"Canon 6D\", \"Canon 50 mm 1.4\", \"Canon 85 mm 1.8\", \"Canon 24-105 mm 4.0\", \"Sigma 15-30 mm 3.5-5.6\"], \"styleList\": [\"footage_food\", \"footage_macro\", \"footage_model\"], \"subjectMatterList\": [\"business\", \"holiday\", \"medical\", \"people\", \"wedding\"], \"facebookUsername\": \"profile.php?id=100001876422303\", \"googlePlusUsername\": \"-\", \"linkedinUsername\": \"-\", \"pinterestUsername\": \"-\", \"tumblrUsername\": \"-\", \"twitterUsername\": \"-\", \"storageKey\": \"contributors/162697858/avatars/original.jpg\", \"cdnThumbPath\": \"/contributors/162697858/avatars/thumb.jpg\", \"displayName\": \"Ievgen Tytarenko\", \"vanityUrlUsername\": \"Eugene TITARENKO\", \"portfolioUrlSuffix\": \"Eugene+TITARENKO\", \"portfolioUrl\": \"https://www.shutterstock.com/g/Eugene+TITARENKO\", \"hasPublicSets\": false, \"facebookUrl\": \"https://www.facebook.com/profile.php%3Fid%3D100001876422303\", \"linkedinUrl\": \"https://www.linkedin.com/in/-\", \"pinterestUrl\": \"https://pinterest.com/-\", \"twitterUrl\": \"https://twitter.com/-\"}', 'categories': '[\"Industrial\", \"People\"]', 'framerate': 25.0, 'r18': 0}\n",
      "-----\n",
      "{'id': 1079808617, 'description': 'Portrait shot of caucasian woman wearing protective mask standing outdoor in forest, looking at the camera and smiling. Eco environmental concept. Diverse multicultural team cleaning nature concept', 'duration': 9.92, 'aspectratio': '16:9', 'videourl': 'https://www.shutterstock.com/shutterstock/videos/1079808617/preview/stock-footage-portrait-shot-of-caucasian-woman-wearing-protective-mask-standing-outdoor-in-forest-looking-at-the.mp4', 'author': '{\"accountsId\": 141465620, \"contributorId\": 3303725, \"bio\": \"Everyone has a story to tell.\", \"location\": \"ua\", \"website\": \"vimeo.com/user47046906\", \"contributorTypeList\": [\"photographer\", \"videographer\"], \"equipmentList\": [\"Red\", \"Canon\", \"Blackmagic\"], \"styleList\": [\"nature\", \"portrait\", \"footage_model\"], \"subjectMatterList\": [\"architectural\", \"business\", \"fashion\", \"industrial\", \"people\"], \"facebookUsername\": \"ihor.vesna\", \"storageKey\": \"contributors/3303725/avatars/original.jpg?t=1550316601048\", \"cdnThumbPath\": \"/contributors/3303725/avatars/thumb.jpg\", \"displayName\": \"VesnaArt\", \"vanityUrlUsername\": \"Vesna Art\", \"portfolioUrlSuffix\": \"Vesna+Art\", \"portfolioUrl\": \"https://www.shutterstock.com/g/Vesna+Art\", \"instagramUsername\": \"vesnaart_stock\", \"hasPublicSets\": true, \"instagramUrl\": \"https://www.instagram.com/vesnaart_stock\", \"facebookUrl\": \"https://www.facebook.com/ihor.vesna\"}', 'categories': '[\"Nature\", \"People\"]', 'framerate': 25.0, 'r18': 0}\n",
      "-----\n",
      "{'id': 23897377, 'description': 'Dehydrated coconut flakes on a wood background.', 'duration': 11.0, 'aspectratio': '16:9', 'videourl': 'https://www.shutterstock.com/shutterstock/videos/23897377/preview/stock-footage-dehydrated-coconut-flakes-on-a-wood-background.mp4', 'author': '{\"accountsId\": 102382309, \"contributorId\": 1059122, \"bio\": \"Food photographer and videographer.\\\\r\\\\narinaphotography-com\", \"location\": \"us\", \"website\": \"www.arinaphotography.com\", \"contributorTypeList\": [\"photographer\", \"videographer\"], \"equipmentList\": [\"\"], \"styleList\": [\"aerial\", \"food\", \"lifestyle\"], \"subjectMatterList\": [\"food_and_drink\"], \"facebookUsername\": \"arinaphotography\", \"googlePlusUsername\": \"107465890598208601959\", \"linkedinUsername\": \"arinahabich\", \"twitterUsername\": \"arinaphoto\", \"storageKey\": \"/contributors/1059122/avatars/thumb.jpg\", \"cdnThumbPath\": \"/contributors/1059122/avatars/thumb.jpg\", \"displayName\": \"Arina P Habich\", \"vanityUrlUsername\": \"arinaphabich\", \"portfolioUrlSuffix\": \"arinaphabich\", \"portfolioUrl\": \"https://www.shutterstock.com/g/arinaphabich\", \"hasPublicSets\": false, \"facebookUrl\": \"https://www.facebook.com/arinaphotography\", \"linkedinUrl\": \"https://www.linkedin.com/in/arinahabich/\", \"twitterUrl\": \"https://twitter.com/arinaphoto\"}', 'categories': '[\"Food and Drink\"]', 'framerate': 29.97, 'r18': 0}\n",
      "-----\n",
      "{'id': 26082050, 'description': 'Marsh frog ( Pelophylax ridibundus ) tadpoles in pond water in spring', 'duration': 11.0, 'aspectratio': '16:9', 'videourl': 'https://www.shutterstock.com/shutterstock/videos/26082050/preview/stock-footage-marsh-frog-pelophylax-ridibundus-tadpoles-in-pond-water-in-spring.mp4', 'author': '{\"accountsId\": 112992253, \"contributorId\": 1120541, \"bio\": \"Wildlife Photography and Videography\", \"location\": \"gb\", \"website\": \"www.stephanmorris.com\", \"contributorTypeList\": [\"photographer\", \"videographer\"], \"equipmentList\": [\"Olympus OMD EM1 mk2\", \"Olympus OMD EM1 Mk3\", \"Olympus OMD EM1X\"], \"styleList\": [\"macro\", \"nature\"], \"subjectMatterList\": [\"animals\", \"nature\", \"wildlife\"], \"storageKey\": \"contributors/1120541/avatars/original.jpg\", \"cdnThumbPath\": \"/contributors/1120541/avatars/thumb.jpg\", \"displayName\": \"Stephan Morris\", \"vanityUrlUsername\": \"StephanMorris\", \"portfolioUrlSuffix\": \"StephanMorris\", \"portfolioUrl\": \"https://www.shutterstock.com/g/StephanMorris\", \"hasPublicSets\": true}', 'categories': '[\"Animals/Wildlife\"]', 'framerate': 25.0, 'r18': 0}\n",
      "-----\n"
     ]
    }
   ],
   "source": [
    "for linha in dados.take(4):\n",
    "\tprint(linha)\n",
    "\tprint(\"-\"*5)"
   ]
  },
  {
   "cell_type": "code",
   "execution_count": null,
   "metadata": {},
   "outputs": [],
   "source": [
    "import requests \n",
    "\n",
    "amostras = 0 \n",
    "for linha in dados:\n",
    "    categorias = linha['categories']\n",
    "    if \"Peoplo\" not in categorias:\n",
    "        continue\n",
    "    url = linha[\"videourl\"]\n",
    "    predicao = classificador_video(url)\n",
    "    print(f\"Vídeo: {url}\\nPredoções:\")\n",
    "    for p in predicao:\n",
    "        print(p)\n",
    "    print('-'*5)\n",
    "    amostras += 1\n",
    "    if amostras == 10:\n",
    "        break\n",
    "\t"
   ]
  }
 ],
 "metadata": {
  "kernelspec": {
   "display_name": ".venv",
   "language": "python",
   "name": "python3"
  },
  "language_info": {
   "codemirror_mode": {
    "name": "ipython",
    "version": 3
   },
   "file_extension": ".py",
   "mimetype": "text/x-python",
   "name": "python",
   "nbconvert_exporter": "python",
   "pygments_lexer": "ipython3",
   "version": "3.10.12"
  }
 },
 "nbformat": 4,
 "nbformat_minor": 2
}
