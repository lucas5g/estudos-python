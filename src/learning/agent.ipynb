{
 "cells": [
  {
   "cell_type": "code",
   "execution_count": 59,
   "metadata": {},
   "outputs": [],
   "source": [
    "from langchain_core.tools import tool\n",
    "\n",
    "@tool\n",
    "def search_employee_tool(name:str):\n",
    "    \"\"\"Busque por informações do nome é cargo do funcionário\"\"\"\n",
    "    print('nome selecionano => ', name)\n",
    "    if name == 'Lucas':\n",
    "        return {'name':'Lucas de Sousa Assunção', 'position': 'backend' }\n",
    "    \n",
    "    if name == \"Rodolfo\":\n",
    "        return {\"name\":\"Rodolfo\", \"position\":\"dba\"}\n",
    "    \n",
    "    return {'name': name, 'position': \"frontend\" }"
   ]
  },
  {
   "cell_type": "code",
   "execution_count": 60,
   "metadata": {},
   "outputs": [],
   "source": [
    "tools = [search_employee_tool]"
   ]
  },
  {
   "cell_type": "code",
   "execution_count": 61,
   "metadata": {},
   "outputs": [],
   "source": [
    "# from langchain_openai import ChatOpenAI\n",
    "\n",
    "# model = ChatOpenAI(model=\"gpt-3.5-turbo\")\n",
    "\n",
    "from langchain_groq import ChatGroq \n",
    "\n",
    "model = ChatGroq(model='LLAMA-3.1-8B-INSTANT')"
   ]
  },
  {
   "cell_type": "code",
   "execution_count": 62,
   "metadata": {},
   "outputs": [],
   "source": [
    "from langchain.agents import AgentExecutor, create_tool_calling_agent\n",
    "from langchain_core.prompts import ChatPromptTemplate\n",
    "\n",
    "prompt = ChatPromptTemplate.from_messages(\n",
    "    [\n",
    "        (\"system\", \"You are a helpful assistant\"),\n",
    "        (\"human\", \"{input}\"),\n",
    "        # Placeholders fill up a **list** of messages\n",
    "        (\"placeholder\", \"{agent_scratchpad}\"),\n",
    "    ]\n",
    ")\n",
    "\n",
    "\n",
    "agent = create_tool_calling_agent(model, tools, prompt)\n",
    "agent_executor = AgentExecutor(agent=agent, tools=tools, verbose=True)\n",
    "\n"
   ]
  },
  {
   "cell_type": "code",
   "execution_count": 65,
   "metadata": {},
   "outputs": [
    {
     "name": "stdout",
     "output_type": "stream",
     "text": [
      "\n",
      "\n",
      "\u001b[1m> Entering new AgentExecutor chain...\u001b[0m\n",
      "\u001b[32;1m\u001b[1;3m\n",
      "Invoking: `search_employee_tool` with `{'name': 'Rodolfo'}`\n",
      "\n",
      "\n",
      "\u001b[0mnome selecionano =>  Rodolfo\n",
      "\u001b[36;1m\u001b[1;3m{'name': 'Rodolfo', 'position': 'dba'}\u001b[0m\u001b[32;1m\u001b[1;3mO cargo de Rodolfo é dba.\u001b[0m\n",
      "\n",
      "\u001b[1m> Finished chain.\u001b[0m\n"
     ]
    },
    {
     "data": {
      "text/plain": [
       "{'input': 'Qual o cargo do Rodolfo?', 'output': 'O cargo de Rodolfo é dba.'}"
      ]
     },
     "execution_count": 65,
     "metadata": {},
     "output_type": "execute_result"
    }
   ],
   "source": [
    "# agent_executor.invoke({\"input\": \"Ola\"})\n",
    "agent_executor.invoke({\"input\": \"Qual o cargo do Rodolfo?\"})\n"
   ]
  },
  {
   "cell_type": "code",
   "execution_count": 64,
   "metadata": {},
   "outputs": [
    {
     "ename": "ValueError",
     "evalue": "could not convert string to float: ''",
     "output_type": "error",
     "traceback": [
      "\u001b[0;31m---------------------------------------------------------------------------\u001b[0m",
      "\u001b[0;31mValueError\u001b[0m                                Traceback (most recent call last)",
      "Cell \u001b[0;32mIn[64], line 42\u001b[0m\n\u001b[1;32m     40\u001b[0m \u001b[38;5;66;03m# Executa a função principal\u001b[39;00m\n\u001b[1;32m     41\u001b[0m \u001b[38;5;28;01mif\u001b[39;00m \u001b[38;5;18m__name__\u001b[39m \u001b[38;5;241m==\u001b[39m \u001b[38;5;124m\"\u001b[39m\u001b[38;5;124m__main__\u001b[39m\u001b[38;5;124m\"\u001b[39m:\n\u001b[0;32m---> 42\u001b[0m     \u001b[43mmain\u001b[49m\u001b[43m(\u001b[49m\u001b[43m)\u001b[49m\n",
      "Cell \u001b[0;32mIn[64], line 27\u001b[0m, in \u001b[0;36mmain\u001b[0;34m()\u001b[0m\n\u001b[1;32m     25\u001b[0m \u001b[38;5;28;01mdef\u001b[39;00m \u001b[38;5;21mmain\u001b[39m():\n\u001b[1;32m     26\u001b[0m     \u001b[38;5;66;03m# Pede ao usuário para inserir o peso e a altura\u001b[39;00m\n\u001b[0;32m---> 27\u001b[0m     peso \u001b[38;5;241m=\u001b[39m \u001b[38;5;28;43mfloat\u001b[39;49m\u001b[43m(\u001b[49m\u001b[38;5;28;43minput\u001b[39;49m\u001b[43m(\u001b[49m\u001b[38;5;124;43m\"\u001b[39;49m\u001b[38;5;124;43mInsira o seu peso (em kg): \u001b[39;49m\u001b[38;5;124;43m\"\u001b[39;49m\u001b[43m)\u001b[49m\u001b[43m)\u001b[49m\n\u001b[1;32m     28\u001b[0m     altura \u001b[38;5;241m=\u001b[39m \u001b[38;5;28mfloat\u001b[39m(\u001b[38;5;28minput\u001b[39m(\u001b[38;5;124m\"\u001b[39m\u001b[38;5;124mInsira a sua altura (em m): \u001b[39m\u001b[38;5;124m\"\u001b[39m))\n\u001b[1;32m     30\u001b[0m     \u001b[38;5;66;03m# Calcula o IMC\u001b[39;00m\n",
      "\u001b[0;31mValueError\u001b[0m: could not convert string to float: ''"
     ]
    }
   ],
   "source": [
    "# Importa a biblioteca de input e output\n",
    "import sys\n",
    "\n",
    "# Função para calcular o IMC\n",
    "def calcular_imc(peso, altura):\n",
    "    imc = peso / (altura ** 2)\n",
    "    return imc\n",
    "\n",
    "# Função para classificar o IMC\n",
    "def classificar_imc(imc):\n",
    "    if imc < 18.5:\n",
    "        return \"Baixo peso\"\n",
    "    elif imc < 25:\n",
    "        return \"Peso normal\"\n",
    "    elif imc < 30:\n",
    "        return \"Sobrepeso\"\n",
    "    elif imc < 35:\n",
    "        return \"Obesidade grau I\"\n",
    "    elif imc < 40:\n",
    "        return \"Obesidade grau II\"\n",
    "    else:\n",
    "        return \"Obesidade grau III\"\n",
    "\n",
    "# Função principal\n",
    "def main():\n",
    "    # Pede ao usuário para inserir o peso e a altura\n",
    "    peso = float(input(\"Insira o seu peso (em kg): \"))\n",
    "    altura = float(input(\"Insira a sua altura (em m): \"))\n",
    "\n",
    "    # Calcula o IMC\n",
    "    imc = calcular_imc(peso, altura)\n",
    "\n",
    "    # Classifica o IMC\n",
    "    classificacao = classificar_imc(imc)\n",
    "\n",
    "    # Exibe o resultado\n",
    "    print(f\"Seu IMC é: {imc:.2f}\")\n",
    "    print(f\"Sua classificação é: {classificacao}\")\n",
    "\n",
    "# Executa a função principal\n",
    "if __name__ == \"__main__\":\n",
    "    main()"
   ]
  },
  {
   "cell_type": "code",
   "execution_count": 66,
   "metadata": {},
   "outputs": [],
   "source": [
    "import requests \n",
    "\n",
    "url = 'https://www.google.com/search?q=cinemark+bh+shopping+cartaz&oq=bh+shopping+cartz+&gs_lcrp=EgZjaHJvbWUqCAgCEAAYFhgeMgYIABBFGDkyCAgBEAAYFhgeMggIAhAAGBYYHjIKCAMQABgIGA0YHjIKCAQQABgIGA0YHjIKCAUQABgIGA0YHjIKCAYQABiABBiiBDIKCAcQABiABBiiBDIKCAgQABiABBiiBDIKCAkQABiABBiiBNIBCDc0MjVqMGo0qAIAsAIB&sourceid=chrome&ie=UTF-8'\n",
    "\n",
    "\n"
   ]
  },
  {
   "cell_type": "code",
   "execution_count": 68,
   "metadata": {},
   "outputs": [],
   "source": [
    "res = requests.get(url)"
   ]
  },
  {
   "cell_type": "code",
   "execution_count": 107,
   "metadata": {},
   "outputs": [],
   "source": [
    "import requests \n",
    "from bs4 import BeautifulSoup \n",
    "\n",
    "headers = {\n",
    "    \"User-Agent\": \"Mozilla/5.0 (Windows NT 10.0; Win64; x64) AppleWebKit/537.36 (KHTML, like Gecko) Chrome/58.0.3029.110 Safari/537.3\"\n",
    "}\n",
    "url = 'https://centraldoseventos.com.br/'\n",
    "\n",
    "\n",
    "res = requests.get(url, headers=headers)\n",
    "\n",
    "html = res.content \n",
    "\n",
    "soup = BeautifulSoup(html, 'html.parser')\n"
   ]
  },
  {
   "cell_type": "code",
   "execution_count": 98,
   "metadata": {},
   "outputs": [
    {
     "data": {
      "text/plain": [
       "<title>Central dos Eventos</title>"
      ]
     },
     "execution_count": 98,
     "metadata": {},
     "output_type": "execute_result"
    }
   ],
   "source": [
    "soup.find('title')"
   ]
  },
  {
   "cell_type": "code",
   "execution_count": 100,
   "metadata": {},
   "outputs": [
    {
     "data": {
      "text/plain": [
       "[]"
      ]
     },
     "execution_count": 100,
     "metadata": {},
     "output_type": "execute_result"
    }
   ],
   "source": [
    "soup.find_all('a')\n",
    "# soup.find(\"a\")\n"
   ]
  },
  {
   "cell_type": "code",
   "execution_count": 105,
   "metadata": {},
   "outputs": [
    {
     "data": {
      "text/plain": [
       "[]"
      ]
     },
     "execution_count": 105,
     "metadata": {},
     "output_type": "execute_result"
    }
   ],
   "source": [
    "soup.find_all('div > div')\n"
   ]
  },
  {
   "cell_type": "code",
   "execution_count": 108,
   "metadata": {},
   "outputs": [
    {
     "data": {
      "text/plain": [
       "b'<!doctype html><html lang=\"pt-BR\"><head><meta charset=\"utf-8\"/><meta name=\"viewport\" content=\"width=device-width,initial-scale=1\"/><meta name=\"theme-color\" content=\"#592C81\"/><link href=\"https://fonts.googleapis.com/css2?family=Montserrat:wght@400;600;700&display=swap\" rel=\"stylesheet\"/><link rel=\"icon\" type=\"image/png\" href=\"https://d2aflxsgc0z59a.cloudfront.net/brand/favicon.png\"/><title>Central dos Eventos</title><meta property=\"og:url\" content=\"https://centraldoseventos.com.br\"><meta property=\"og:title\" content=\"Central dos Eventos\"><meta property=\"og:description\" content=\"Seja bem vindo a Central dos Eventos, os melhores eventos voc\\xc3\\xaa encontra aqui. Desde 2004 com uma forte atua\\xc3\\xa7\\xc3\\xa3o e reconhecimento no mercado de entretenimento mineiro, trabalhamos em diversas \\xc3\\xa1reas como divulga\\xc3\\xa7\\xc3\\xa3o, produ\\xc3\\xa7\\xc3\\xa3o, venda e distribui\\xc3\\xa7\\xc3\\xa3o de ingressos para diferentes eventos. Realizamos a produ\\xc3\\xa7\\xc3\\xa3o de shows, teatros, festas, semin\\xc3\\xa1rios, palestras e v\\xc3\\xa1rios outros segmentos de todos os portes, para grandes produtores e pequenos realizadores, com atendimento personalizado, humanizado e eficiente.\"><meta property=\"og:image\" content=\"https://d2aflxsgc0z59a.cloudfront.net/brand/logo-square.png\"><meta property=\"og:image:secure_url\" content=\"https://d2aflxsgc0z59a.cloudfront.net/brand/logo-square.png\"><meta property=\"twitter:title\" content=\"Central dos Eventos\"><meta property=\"twitter:description\" content=\"Seja bem vindo a Central dos Eventos, os melhores eventos voc\\xc3\\xaa encontra aqui. Desde 2004 com uma forte atua\\xc3\\xa7\\xc3\\xa3o e reconhecimento no mercado de entretenimento mineiro, trabalhamos em diversas \\xc3\\xa1reas como divulga\\xc3\\xa7\\xc3\\xa3o, produ\\xc3\\xa7\\xc3\\xa3o, venda e distribui\\xc3\\xa7\\xc3\\xa3o de ingressos para diferentes eventos. Realizamos a produ\\xc3\\xa7\\xc3\\xa3o de shows, teatros, festas, semin\\xc3\\xa1rios, palestras e v\\xc3\\xa1rios outros segmentos de todos os portes, para grandes produtores e pequenos realizadores, com atendimento personalizado, humanizado e eficiente.\"><meta property=\"twitter:image\" content=\"https://d2aflxsgc0z59a.cloudfront.net/brand/logo-square.png\"><meta property=\"twitter:image:secure_url\" content=\"https://d2aflxsgc0z59a.cloudfront.net/brand/logo-square.png\"><script async src=\"https://www.googletagmanager.com/gtag/js?id=GA_MEASUREMENT_ID\"></script><script>function gtag(){dataLayer.push(arguments)}window.dataLayer=window.dataLayer||[],gtag(\"js\",new Date)</script><link href=\"/static/css/2.cd3c8be6.chunk.css\" rel=\"stylesheet\"><link href=\"/static/css/main.429ab51f.chunk.css\" rel=\"stylesheet\"></head><body><noscript>You need to enable JavaScript to run this app.</noscript><div id=\"root\"></div><script>!function(e){function t(t){for(var n,i,l=t[0],f=t[1],a=t[2],c=0,s=[];c<l.length;c++)i=l[c],Object.prototype.hasOwnProperty.call(o,i)&&o[i]&&s.push(o[i][0]),o[i]=0;for(n in f)Object.prototype.hasOwnProperty.call(f,n)&&(e[n]=f[n]);for(p&&p(t);s.length;)s.shift()();return u.push.apply(u,a||[]),r()}function r(){for(var e,t=0;t<u.length;t++){for(var r=u[t],n=!0,l=1;l<r.length;l++){var f=r[l];0!==o[f]&&(n=!1)}n&&(u.splice(t--,1),e=i(i.s=r[0]))}return e}var n={},o={1:0},u=[];function i(t){if(n[t])return n[t].exports;var r=n[t]={i:t,l:!1,exports:{}};return e[t].call(r.exports,r,r.exports,i),r.l=!0,r.exports}i.m=e,i.c=n,i.d=function(e,t,r){i.o(e,t)||Object.defineProperty(e,t,{enumerable:!0,get:r})},i.r=function(e){\"undefined\"!=typeof Symbol&&Symbol.toStringTag&&Object.defineProperty(e,Symbol.toStringTag,{value:\"Module\"}),Object.defineProperty(e,\"__esModule\",{value:!0})},i.t=function(e,t){if(1&t&&(e=i(e)),8&t)return e;if(4&t&&\"object\"==typeof e&&e&&e.__esModule)return e;var r=Object.create(null);if(i.r(r),Object.defineProperty(r,\"default\",{enumerable:!0,value:e}),2&t&&\"string\"!=typeof e)for(var n in e)i.d(r,n,function(t){return e[t]}.bind(null,n));return r},i.n=function(e){var t=e&&e.__esModule?function(){return e.default}:function(){return e};return i.d(t,\"a\",t),t},i.o=function(e,t){return Object.prototype.hasOwnProperty.call(e,t)},i.p=\"/\";var l=this[\"webpackJsonpiotickets-portal-front\"]=this[\"webpackJsonpiotickets-portal-front\"]||[],f=l.push.bind(l);l.push=t,l=l.slice();for(var a=0;a<l.length;a++)t(l[a]);var p=f;r()}([])</script><script src=\"/static/js/2.6c688d07.chunk.js\"></script><script src=\"/static/js/main.5953cf73.chunk.js\"></script></body></html>'"
      ]
     },
     "execution_count": 108,
     "metadata": {},
     "output_type": "execute_result"
    }
   ],
   "source": [
    "html"
   ]
  }
 ],
 "metadata": {
  "kernelspec": {
   "display_name": ".venv",
   "language": "python",
   "name": "python3"
  },
  "language_info": {
   "codemirror_mode": {
    "name": "ipython",
    "version": 3
   },
   "file_extension": ".py",
   "mimetype": "text/x-python",
   "name": "python",
   "nbconvert_exporter": "python",
   "pygments_lexer": "ipython3",
   "version": "3.10.12"
  }
 },
 "nbformat": 4,
 "nbformat_minor": 2
}
