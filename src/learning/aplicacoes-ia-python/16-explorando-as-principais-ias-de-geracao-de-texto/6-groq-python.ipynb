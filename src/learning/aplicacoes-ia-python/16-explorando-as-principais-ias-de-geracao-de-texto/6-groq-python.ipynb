{
 "cells": [
  {
   "cell_type": "code",
   "execution_count": 1,
   "metadata": {},
   "outputs": [],
   "source": [
    "from groq import Groq \n",
    "client = Groq()"
   ]
  },
  {
   "cell_type": "code",
   "execution_count": 2,
   "metadata": {},
   "outputs": [],
   "source": [
    "messages = [\n",
    "    {\n",
    "\t\t\"role\":\"user\",\n",
    "\t\t\"content\":\"Explique a importância de modelos de linguagem rápidos\"\n",
    "\t}\n",
    "]\n",
    "\n",
    "res = client.chat.completions.create(\n",
    "\tmessages=messages,\n",
    "\tmodel='llama-3.1-8b-Instant'\n",
    ")"
   ]
  },
  {
   "cell_type": "code",
   "execution_count": 6,
   "metadata": {},
   "outputs": [
    {
     "name": "stdout",
     "output_type": "stream",
     "text": [
      "Os modelos de linguagem rápidos têm diversas implicações importantes na atualidade. Seguem detalhes das principais:\n",
      "\n",
      "1.  **Processamento de Língua Natural (PLN)**: Desenvolver modelos de linguagem mais rápida com a capacidade de aprender características de um vasto leque de documentos e interagir em tempo real. Incluem modelos como sequenciamento de linguagem, que servem como base para diversos aplicativos que utilizam PLN em tempo real.\n",
      "2.  **Classificação de Texto e Sentimento**: Modelos de linguagem rápidos permitem processar grandes textos e categoriza-los com base em sentimento, o que é chave para técnicas, como análise de sentimento, onde são avaliadas expressões de opinião sobre um produto, serviço ou experiência.\n",
      "3.  **Tradução e Geração de Texto**: A adoção de modelos de linguagem mais rápidos impulsiona melhorias expressivas e automáticas de tradução de textos. Novos aplicativos tornam-se viáveis, como conversão de linguagem natural para formatos de texto definidos.\n",
      "4.  **Previsão e Inteligência Artificial**: Todos os conceitos de classificação de textos tornaram-se adicionais necessários e adequados para outras áreas de estágios avançados de processamento de linguagem natural. Tipicamente, eles constroem o histórico dos dados processados como base de dados de inteligência artificial aprende, prevendo as escolhas.\n"
     ]
    }
   ],
   "source": [
    "print(res.choices[0].message.content)"
   ]
  },
  {
   "cell_type": "code",
   "execution_count": 8,
   "metadata": {},
   "outputs": [
    {
     "name": "stdout",
     "output_type": "stream",
     "text": [
      "Modelos de linguagem rápidos, como os modelos larga forma, são essenciais para diversas aplicações tecnológicas em que eficiência e processamento de informação são fundamentais, como por exemplo, inteligência artificial, chatbots, assistentes virtuais, serviços de recomendação e até mesmo na extracção de informações de grande volume de dados. Eles oferecem uma abordagem matemática para compreender padrões e estruturas complexas presentes dentro de grandes conjuntos de dados, como bilhões ou até milhões de unidades de texto, imagem, áudio, vídeos etc.\n",
      "\n",
      "Existem duas vertentes principais para construir esses modelos de linguagem baseados em rede neural:\n",
      "\n",
      "1. Modelos **Estáticos** (também chamados de **Longo.** \n",
      "2. Modelos **Seq2Seq - Decodificadores Dinâmicos**\n",
      "\n",
      "Existem desafios para construir esses modelos de grande porte.\n",
      "\n",
      "Os **modelos de Linguagem Estáticos** (ou **Longo.**) não tem conhecimento do contexto histórico ou de longo prazo, por exemplo., quando você está pedindo uma resposta baseada em apenas uma frase ou até mesmo uma frase anterior na conversa.None"
     ]
    }
   ],
   "source": [
    "messages = [\n",
    "\t{\n",
    "\t\t\"role\":\"user\",\n",
    "\t\t\"content\":\"Explique a importância de modelos de linguagem rápidos\"\n",
    "\t}\n",
    "]\n",
    "\n",
    "stream = client.chat.completions.create(\n",
    "\tmessages=messages,\n",
    "\tmodel=\"llama-3.1-8b-Instant\",\n",
    "\tstream=True\n",
    ")\n",
    "\n",
    "for chunk in stream:\n",
    "    print(chunk.choices[0].delta.content, end='')"
   ]
  },
  {
   "cell_type": "code",
   "execution_count": 1,
   "metadata": {},
   "outputs": [
    {
     "name": "stdout",
     "output_type": "stream",
     "text": [
      " 16 anos depois, a seleção feminina de futebol está de volta à final olímpica. Nessa terça-feira, as meninas do Brasil se viram diante de um desafio colossal. A Espanha, atual campeã do mundo e time com algumas das melhores jogadoras da atualidade. Com extrema aplicação tática e grandes atuações individuais, o Brasil contou com a lambança da goleira Cata Coll, que chutou a bola nas costas da zagueira para abrir o placar aos seis minutos de jogo. Depois de várias oportunidades perdidas, o Brasil ampliou nos acréscimos da primeira etapa com Gabi Portilho e foi para os vestiários com uma vantagem considerável. No segundo tempo, as chances continuaram aparecendo, até que Adriana fez o terceiro e deixou a amarelinha muito perto da vaga. A Espanha até tentou um abafa no final da partida e fez o gol de honra com paredes, mas Caroline fez o quarto aos 46, com um toque malicioso por baixo das pernas da goleira. Com os acréscimos de 15 minutos, a Espanha voltou a diminuir, mas não foi o suficiente para uma reação. A grande final vai ser no próximo sábado, justamente contra as americanas, algozes das finais de 2004 e 2008. E aí\n"
     ]
    }
   ],
   "source": [
    "from groq import Groq \n",
    "\n",
    "client = Groq() \n",
    "\n",
    "arquivo = 'files/olimpiadas.mp4'\n",
    "\n",
    "with open(arquivo, 'rb') as file:\n",
    "    transcricao = client.audio.transcriptions.create(\n",
    "\t\tfile=(arquivo, file.read()),\n",
    "\t\tmodel='whisper-large-v3',\n",
    "\t\tresponse_format='json',\n",
    "\t\tlanguage='pt',\n",
    "\t\t# prompt='Essa uma reportagem do jornal tempo'\n",
    "\t)\n",
    "    \n",
    "    print(transcricao.text)"
   ]
  },
  {
   "cell_type": "code",
   "execution_count": 12,
   "metadata": {},
   "outputs": [
    {
     "data": {
      "text/plain": [
       "' 16 anos depois a seleção feminina de futebol está de volta a final olímpica Nessa terça-feira as meninas do Brasil se viram diante de um desafio colossal A Espanha, atual campeã do mundo e time com algumas das melhores jogadoras da atualidade Com extrema aplicação tática e grandes atuações individuais O Brasil contou com a lambança da goleira Catacol que chutou a bola nas costas da zagueira para abrir o placar aos seis minutos de jogo. Depois de várias oportunidades perdidas, o Brasil ampliou nos acréscimos da primeira etapa com Gabi Portilho e foi para os vestiários com uma vantagem considerável. No segundo tempo, as chances continuaram aparecendo, até que Adriana fez o terceiro e deixou a amarelinha muito perto da vaga. A Espanha até tentou um abafa no final da partida e fez o gol de honra, com paredes, mas Caroline fez o quarto aos 46 com um toque malicioso por baixo das pernas da goleira com os acréscimos de 15 minutos a Espanha voltou a diminuir mas não foi o suficiente para uma reação a grande final vai ser no próximo sábado, justamente contra as americanas ao gozes das finais de 2004 e 2008 e aí'"
      ]
     },
     "execution_count": 12,
     "metadata": {},
     "output_type": "execute_result"
    }
   ],
   "source": [
    "transcricao.text\n",
    "\n"
   ]
  },
  {
   "cell_type": "code",
   "execution_count": 13,
   "metadata": {},
   "outputs": [],
   "source": [
    "chat_completion = client.chat.completions.create(\n",
    "    messages=[\n",
    "        {\n",
    "            \"role\": \"user\",\n",
    "            \"content\": f\"Pegue o contexto abaixo e gere um resumo \\n\\n {transcricao.text}\",\n",
    "        }\n",
    "    ],\n",
    "    model=\"llama3-8b-8192\",\n",
    ")"
   ]
  },
  {
   "cell_type": "code",
   "execution_count": 15,
   "metadata": {},
   "outputs": [
    {
     "name": "stdout",
     "output_type": "stream",
     "text": [
      "Resumo:\n",
      "\n",
      "A seleção feminina de futebol do Brasil venceu a Espanha por 4 a 2 na semifinal das Olimpíadas, após 16 anos de ausência na final. O Brasil fez um jogo pesado e controle a partida, com Catacol abrindo o placar aos 6 minutos e Gabi Portilho marcando o segundo nos acréscimos da primeira etapa. No segundo tempo, Adriana fez o terceiro e Caroline marcou o quarto com um toque malicioso. A Espanha fez dois gols de honra, mas não foi suficiente para mudar o resultado. O Brasil agora enfrenta os Unidos Brasileiras na final, novamente.\n"
     ]
    }
   ],
   "source": [
    "print(chat_completion.choices[0].message.content)"
   ]
  }
 ],
 "metadata": {
  "kernelspec": {
   "display_name": ".venv",
   "language": "python",
   "name": "python3"
  },
  "language_info": {
   "codemirror_mode": {
    "name": "ipython",
    "version": 3
   },
   "file_extension": ".py",
   "mimetype": "text/x-python",
   "name": "python",
   "nbconvert_exporter": "python",
   "pygments_lexer": "ipython3",
   "version": "3.10.12"
  }
 },
 "nbformat": 4,
 "nbformat_minor": 2
}
