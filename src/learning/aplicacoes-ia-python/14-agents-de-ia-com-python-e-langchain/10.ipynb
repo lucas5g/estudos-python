{
 "cells": [
  {
   "cell_type": "code",
   "execution_count": 20,
   "metadata": {},
   "outputs": [],
   "source": [
    "import requests \n",
    "import datetime \n",
    "\n",
    "from langchain.agents import tool \n",
    "from langchain.pydantic_v1 import BaseModel, Field\n",
    "\n",
    "class RetornTempArgs(BaseModel):\n",
    "    latitude: float = Field(description=\"Latitude da localidade que buscamos a temperatura\")\n",
    "    longitude: float = Field(description=\"Longitute da localidade que buscamos a temperatura\")\n",
    " \n",
    "@tool(args_schema=RetornTempArgs)\n",
    "def retorna_temperatura_atual(latitude: float, longitude: float):\n",
    "    \"\"\"Retorne a temperatura atual para uma dada coordenada\"\"\"\n",
    "    \n",
    "    url = 'https://api.open-meteo.com/v1/forecast'\n",
    "    \n",
    "    params = {\n",
    "\t\t\"latitude\": latitude,\n",
    "\t\t\"longitude\": longitude,\n",
    "\t\t\"hourly\": \"temperatura_2m\",\n",
    "\t\t\"forecast_days\": 1\n",
    "\t}\n",
    "    \n",
    "    res = requests.get(url, params=params)\n",
    "    \n",
    "    if res.status_code == 200:\n",
    "        resultado = res.json()\n",
    "        \n",
    "        hora_agora = datetime.datetime.now(datetime.UTC).replace(tzinfo=None)\n",
    "        lista_horas = [datetime.datetime.fromisoformat(temp_str) for temp_str in resultado[\"hourly\"][\"time\"]]\n",
    "        index_mais_prox = min(range(len(lista_horas)), key=lambda x: abs(lista_horas[x] - hora_agora))\n",
    "        \n",
    "        temp_atual = resultado[\"hourly\"][\"temperature_2m\"][index_mais_prox]\n",
    "        return temp_atual \n",
    "    return f\"Request para Api {url} falhou: {res.status_code}\"\n",
    "    \n",
    "\t# raise Exception(f\"Request para Api {url} falhou: {res.status_code}\")\n",
    "\n",
    "        "
   ]
  },
  {
   "cell_type": "code",
   "execution_count": 3,
   "metadata": {},
   "outputs": [
    {
     "data": {
      "text/plain": [
       "StructuredTool(name='retorna_temperatura_atual', description='Retorne a temperatura atual para uma dada coordenada', args_schema=<class '__main__.RetornTempArgs'>, func=<function retorna_temperatura_atual at 0x781a19dd3eb0>)"
      ]
     },
     "execution_count": 3,
     "metadata": {},
     "output_type": "execute_result"
    }
   ],
   "source": [
    "retorna_temperatura_atual"
   ]
  },
  {
   "cell_type": "code",
   "execution_count": 5,
   "metadata": {},
   "outputs": [
    {
     "data": {
      "text/plain": [
       "{'latitude': {'title': 'Latitude',\n",
       "  'description': 'Latitude da localidade que buscamos a temperatura',\n",
       "  'type': 'number'},\n",
       " 'longitute': {'title': 'Longitute',\n",
       "  'description': 'Longitute da localidade que buscamos a temperatura',\n",
       "  'type': 'number'}}"
      ]
     },
     "execution_count": 5,
     "metadata": {},
     "output_type": "execute_result"
    }
   ],
   "source": [
    "retorna_temperatura_atual.args"
   ]
  },
  {
   "cell_type": "code",
   "execution_count": 21,
   "metadata": {},
   "outputs": [
    {
     "data": {
      "text/plain": [
       "'Request para Api https://api.open-meteo.com/v1/forecast falhou: 400'"
      ]
     },
     "execution_count": 21,
     "metadata": {},
     "output_type": "execute_result"
    }
   ],
   "source": [
    "retorna_temperatura_atual.invoke({\"latitude\": -30, \"longitude\": -50})"
   ]
  },
  {
   "cell_type": "code",
   "execution_count": 26,
   "metadata": {},
   "outputs": [],
   "source": [
    "import wikipedia \n",
    "wikipedia.set_lang('pt')\n",
    "\n",
    "@tool \n",
    "def busca_wikipedia(query: str):\n",
    "    \"\"\"Faz busca no wikipedia e retorna resumos de páginas para a query\"\"\"\n",
    "    titulos_paginas = wikipedia.search(query)\n",
    "    resumos = []\n",
    "    for titulo in titulos_paginas[:3]:\n",
    "        try:\n",
    "            wiki_page = wikipedia.page(title=titulo, auto_suggest=True)\n",
    "            resumos.append(f\"Título da página: {titulo}\\nResumo: {wiki_page.summary}\")\n",
    "        except:\n",
    "            pass\n",
    "        \n",
    "    if not resumos:\n",
    "        return \"Busca não teve retorno\"\n",
    "    \n",
    "    return \"\\n\\n\".join(resumos)"
   ]
  },
  {
   "cell_type": "code",
   "execution_count": 27,
   "metadata": {},
   "outputs": [
    {
     "data": {
      "text/plain": [
       "'Título da página: Isaac Asimov\\nResumo: Isaac Asimov (em russo: Исаак Юдович Озимов; romaniz.: Isaak Yudavich Azimov; Petrovichi, Rússia Soviética, atual Rússia, 2 de janeiro de 1920 — Brooklyn, 6 de abril de 1992) foi um escritor e bioquímico russo-americano, autor de obras de ficção científica e divulgação científica.\\nAsimov é considerado um dos mestres da ficção científica e, junto com Robert A. Heinlein e Arthur C. Clarke, foi considerado um dos \"três grandes\" dessa área da literatura. A obra mais famosa de Asimov é a Série da Fundação, também conhecida como Trilogia da Fundação, que faz parte da série do Império Galáctico e que logo combinou com a Série Robôs. Também escreveu obras de mistério e fantasia, assim como uma grande quantidade de não-ficção. No total, escreveu ou editou mais de 500 volumes, aproximadamente 90 000 cartas ou postais, e tem obras em cada categoria importante do sistema de classificação bibliográfica de Dewey, exceto em filosofia.\\nA maioria de seus livros mais populares sobre ciência, explicam conceitos científicos de uma forma histórica, voltando no tempo o mais longe possível, quando a ciência em questão estava nos primeiros estágios. Ele providência, muitas vezes, datas de nascimento e falecimento dos cientistas que menciona, também etimologias e guias de pronunciação para termos técnicos. Alguns exemplos incluem, \"Guide to Science\", os três volumes de \"Understanding Physics\" e a \"Chronology of Science and Discovery\", e trabalhos sobre Astronomia, Matemática, a Bíblia, escritos de William Shakespeare e Química.\\nEm 1981, um asteroide recebeu seu nome em sua homenagem, o 5020 Asimov. O robô humanoide \"ASIMO\" da Honda, também pode ser considerada uma homenagem indireta a Asimov,[carece de fontes?] pois o nome do robô significa, em inglês, Advanced Step in Innovative Mobility, além de também significar, em japonês, \"também com pernas\" (ashi mo), em um trocadilho linguístico em relação à propriedade inovadora de movimentação deste robô.\\n\\nTítulo da página: Fundação (romance de Asimov)\\nResumo: Fundação (Foundation) é um romance de ficção científica do escritor americano Isaac Asimov. É o primeiro publicado da Trilogia Fundação (posteriormente expandida para a série Fundação). Fundação é um conjunto de cinco contos inter-relacionados, publicados pela primeira vez como um único livro pela Gnome Press em 1951. Coletivamente, eles contam a história inicial da Fundação, um instituto fundado pelo psico-historiador Hari Seldon para preservar o melhor da civilização galáctica após o colapso do Império Galáctico.\\n\\nTítulo da página: Império Galáctico (série)\\nResumo: A série do Império Galáctico (também conhecida como Trilogia do Império) é uma sequencia de ficção científica, dos três primeiros romances de Isaac Asimov e posteriormente estendida através de um conto. Todas estão conectadas através de uma linha temporal que permeia seus principais trabalhos tornando cronologicamente as histórias do Império Galáctico prolegômenos do Universo da Fundação.\\nA série do Império Galáctico trata da ascensão do Império e está localizada posteriormente a Série dos Robôs e anteriormente a Série Fundação.'"
      ]
     },
     "execution_count": 27,
     "metadata": {},
     "output_type": "execute_result"
    }
   ],
   "source": [
    "busca_wikipedia.invoke({\"query\":\"isaac asimov\"})"
   ]
  },
  {
   "cell_type": "code",
   "execution_count": 34,
   "metadata": {},
   "outputs": [],
   "source": [
    "# from langchain.prompts import ChatPromptTemplate\n",
    "# from langchain_openai import ChatOpenAI\n",
    "# from langchain_core.utils.function_calling import convert_to_openai_function\n",
    "\n",
    "# prompt = ChatPromptTemplate.from_messages([\n",
    "#     ('system', 'Você é um assistente amigável chamado Isaac'),\n",
    "#     ('user', '{input}')\n",
    "# ])\n",
    "# chat = ChatOpenAI()\n",
    "\n",
    "# tools = [convert_to_openai_function(busca_wikipedia), convert_to_openai_function(retorna_temperatura_atual)]\n",
    "# chain = prompt | chat.bind(functions=tools)\n",
    "\n",
    "from langchain.prompts import ChatPromptTemplate\n",
    "from langchain_openai import ChatOpenAI \n",
    "from langchain_core.utils.function_calling import convert_to_openai_function\n",
    "\n",
    "prompt = ChatPromptTemplate.from_messages([\n",
    "\t(\"system\", \"Você é um assistente amigável chamada Isaac\"),\n",
    "\t(\"user\", \"{input}\")\n",
    "])\n",
    "\n",
    "chat = ChatOpenAI()\n",
    "\n",
    "tools = [convert_to_openai_function(busca_wikipedia), convert_to_openai_function(retorna_temperatura_atual)]\n",
    "chain = prompt | chat.bind(functions=tools)"
   ]
  },
  {
   "cell_type": "code",
   "execution_count": 35,
   "metadata": {},
   "outputs": [
    {
     "data": {
      "text/plain": [
       "AIMessage(content='Olá! Como posso ajudar você hoje?', response_metadata={'token_usage': {'completion_tokens': 12, 'prompt_tokens': 129, 'total_tokens': 141}, 'model_name': 'gpt-3.5-turbo-0125', 'system_fingerprint': None, 'finish_reason': 'stop', 'logprobs': None}, id='run-c4c72f7f-450e-4c89-9dc0-20638df7de24-0', usage_metadata={'input_tokens': 129, 'output_tokens': 12, 'total_tokens': 141})"
      ]
     },
     "execution_count": 35,
     "metadata": {},
     "output_type": "execute_result"
    }
   ],
   "source": [
    "chain.invoke({\"input\": \"Olá\"})"
   ]
  },
  {
   "cell_type": "code",
   "execution_count": 36,
   "metadata": {},
   "outputs": [
    {
     "data": {
      "text/plain": [
       "AIMessage(content='', additional_kwargs={'function_call': {'arguments': '{\"latitude\":-30.0346,\"longitude\":-51.2177}', 'name': 'retorna_temperatura_atual'}}, response_metadata={'token_usage': {'completion_tokens': 28, 'prompt_tokens': 137, 'total_tokens': 165}, 'model_name': 'gpt-3.5-turbo-0125', 'system_fingerprint': None, 'finish_reason': 'function_call', 'logprobs': None}, id='run-6ce800e3-d718-40cf-9a9e-df630cb476d3-0', usage_metadata={'input_tokens': 137, 'output_tokens': 28, 'total_tokens': 165})"
      ]
     },
     "execution_count": 36,
     "metadata": {},
     "output_type": "execute_result"
    }
   ],
   "source": [
    "chain.invoke({\"input\":\"Qual é a temperatura de Porto Alegre?\"})"
   ]
  }
 ],
 "metadata": {
  "kernelspec": {
   "display_name": ".venv",
   "language": "python",
   "name": "python3"
  },
  "language_info": {
   "codemirror_mode": {
    "name": "ipython",
    "version": 3
   },
   "file_extension": ".py",
   "mimetype": "text/x-python",
   "name": "python",
   "nbconvert_exporter": "python",
   "pygments_lexer": "ipython3",
   "version": "3.10.12"
  }
 },
 "nbformat": 4,
 "nbformat_minor": 2
}
